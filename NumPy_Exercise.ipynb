{
  "nbformat": 4,
  "nbformat_minor": 0,
  "metadata": {
    "kernelspec": {
      "display_name": "Python 3",
      "language": "python",
      "name": "python3"
    },
    "language_info": {
      "codemirror_mode": {
        "name": "ipython",
        "version": 3
      },
      "file_extension": ".py",
      "mimetype": "text/x-python",
      "name": "python",
      "nbconvert_exporter": "python",
      "pygments_lexer": "ipython3",
      "version": "3.7.3"
    },
    "colab": {
      "name": "NumPy_Workshop.ipynb",
      "provenance": [],
      "include_colab_link": true
    }
  },
  "cells": [
    {
      "cell_type": "markdown",
      "metadata": {
        "id": "view-in-github",
        "colab_type": "text"
      },
      "source": [
        "<a href=\"https://colab.research.google.com/github/taiebat/NumPy/blob/master/NumPy_Exercise.ipynb\" target=\"_parent\"><img src=\"https://colab.research.google.com/assets/colab-badge.svg\" alt=\"Open In Colab\"/></a>"
      ]
    },
    {
      "cell_type": "markdown",
      "metadata": {
        "id": "lHpGvGVlbkSf",
        "colab_type": "text"
      },
      "source": [
        "**bold text**# NumPy Exercise\n",
        "\n",
        "## Morteza Taiebat\n",
        "#### University of Michigan"
      ]
    },
    {
      "cell_type": "markdown",
      "metadata": {
        "id": "RoVyznnubkSg",
        "colab_type": "text"
      },
      "source": [
        "## NumPy\n",
        "- is a Python package developed for scientific computing,\n",
        "- is built largely around an n-dimensional array (ndarray) object\n",
        "- includes various other capabilities, including linear algebra and random number generation. (see numpy.org)"
      ]
    },
    {
      "cell_type": "markdown",
      "metadata": {
        "id": "Buc2FHymbkSi",
        "colab_type": "text"
      },
      "source": [
        "To get started, import the NumPy package."
      ]
    },
    {
      "cell_type": "code",
      "metadata": {
        "id": "2lzCMUT6bkSj",
        "colab_type": "code",
        "colab": {}
      },
      "source": [
        "import numpy as np"
      ],
      "execution_count": 1,
      "outputs": []
    },
    {
      "cell_type": "markdown",
      "metadata": {
        "id": "jUD8whybbkSn",
        "colab_type": "text"
      },
      "source": [
        "## Data types"
      ]
    },
    {
      "cell_type": "markdown",
      "metadata": {
        "id": "AT-McmGIbkSn",
        "colab_type": "text"
      },
      "source": [
        "- NumPy has multiple data types.\n",
        "- In some cases, the number of bits (e.g. 16, 32, 64) can be specified.\n",
        "- An underscore represents the default size.\n",
        "For example:"
      ]
    },
    {
      "cell_type": "code",
      "metadata": {
        "id": "dofQqG1XbkSo",
        "colab_type": "code",
        "colab": {
          "base_uri": "https://localhost:8080/",
          "height": 34
        },
        "outputId": "dd81c6f3-ea67-4175-c3c0-b247bb903de8"
      },
      "source": [
        "np.int64(4.7)"
      ],
      "execution_count": 3,
      "outputs": [
        {
          "output_type": "execute_result",
          "data": {
            "text/plain": [
              "4"
            ]
          },
          "metadata": {
            "tags": []
          },
          "execution_count": 3
        }
      ]
    },
    {
      "cell_type": "code",
      "metadata": {
        "id": "jDMQpbAxbkSr",
        "colab_type": "code",
        "colab": {
          "base_uri": "https://localhost:8080/",
          "height": 34
        },
        "outputId": "6339eac7-2caf-4ac3-db5b-48081ce4f009"
      },
      "source": [
        "np.float64(4.3)"
      ],
      "execution_count": 4,
      "outputs": [
        {
          "output_type": "execute_result",
          "data": {
            "text/plain": [
              "4.3"
            ]
          },
          "metadata": {
            "tags": []
          },
          "execution_count": 4
        }
      ]
    },
    {
      "cell_type": "code",
      "metadata": {
        "id": "j5gVK3xsbkSu",
        "colab_type": "code",
        "colab": {
          "base_uri": "https://localhost:8080/",
          "height": 34
        },
        "outputId": "922e12a7-63aa-4145-e889-aae073f6b0de"
      },
      "source": [
        "np.bool_(1)"
      ],
      "execution_count": 5,
      "outputs": [
        {
          "output_type": "execute_result",
          "data": {
            "text/plain": [
              "True"
            ]
          },
          "metadata": {
            "tags": []
          },
          "execution_count": 5
        }
      ]
    },
    {
      "cell_type": "markdown",
      "metadata": {
        "id": "UY89EpABbkSx",
        "colab_type": "text"
      },
      "source": [
        "## Array creation"
      ]
    },
    {
      "cell_type": "markdown",
      "metadata": {
        "id": "IqQFEBn7bkSy",
        "colab_type": "text"
      },
      "source": [
        "Create ndarray of zeros. Input is a tuple defining the shape."
      ]
    },
    {
      "cell_type": "code",
      "metadata": {
        "scrolled": true,
        "id": "3ZldHXqAbkSy",
        "colab_type": "code",
        "colab": {
          "base_uri": "https://localhost:8080/",
          "height": 34
        },
        "outputId": "e79b1954-9b30-4221-d2ae-77079d108320"
      },
      "source": [
        "np.zeros((3,2)).shape"
      ],
      "execution_count": 7,
      "outputs": [
        {
          "output_type": "execute_result",
          "data": {
            "text/plain": [
              "(3, 2)"
            ]
          },
          "metadata": {
            "tags": []
          },
          "execution_count": 7
        }
      ]
    },
    {
      "cell_type": "markdown",
      "metadata": {
        "id": "p2MnjaVwbkS1",
        "colab_type": "text"
      },
      "source": [
        "Create ndarray from Python lists. You can specify the number type (default is `np.float64`)."
      ]
    },
    {
      "cell_type": "code",
      "metadata": {
        "scrolled": true,
        "id": "LgOqnGhgbkS1",
        "colab_type": "code",
        "colab": {
          "base_uri": "https://localhost:8080/",
          "height": 51
        },
        "outputId": "9ac92a3d-1e2a-4cbb-c5d8-3a1d4527ae4b"
      },
      "source": [
        "np.array([[1.,2.,3.],[4.,5.,6.]],dtype=np.int_)"
      ],
      "execution_count": 8,
      "outputs": [
        {
          "output_type": "execute_result",
          "data": {
            "text/plain": [
              "array([[1, 2, 3],\n",
              "       [4, 5, 6]])"
            ]
          },
          "metadata": {
            "tags": []
          },
          "execution_count": 8
        }
      ]
    },
    {
      "cell_type": "code",
      "metadata": {
        "scrolled": true,
        "id": "E-yHmh-0bkS5",
        "colab_type": "code",
        "colab": {
          "base_uri": "https://localhost:8080/",
          "height": 51
        },
        "outputId": "ca3a420a-ae46-46bc-c8cd-2b261e8c8211"
      },
      "source": [
        "np.array([[1.,2.,3.],[4.,5.,6.]],dtype=np.float_)"
      ],
      "execution_count": 9,
      "outputs": [
        {
          "output_type": "execute_result",
          "data": {
            "text/plain": [
              "array([[1., 2., 3.],\n",
              "       [4., 5., 6.]])"
            ]
          },
          "metadata": {
            "tags": []
          },
          "execution_count": 9
        }
      ]
    },
    {
      "cell_type": "code",
      "metadata": {
        "id": "hghmetf2bkS8",
        "colab_type": "code",
        "colab": {
          "base_uri": "https://localhost:8080/",
          "height": 102
        },
        "outputId": "b4691f1e-9465-4175-dde5-b5027b6b46ba"
      },
      "source": [
        "np.array([[[1.,2.],[3.,4.]],[[5.,6.],[7.,8.]]],dtype=np.float_)"
      ],
      "execution_count": 10,
      "outputs": [
        {
          "output_type": "execute_result",
          "data": {
            "text/plain": [
              "array([[[1., 2.],\n",
              "        [3., 4.]],\n",
              "\n",
              "       [[5., 6.],\n",
              "        [7., 8.]]])"
            ]
          },
          "metadata": {
            "tags": []
          },
          "execution_count": 10
        }
      ]
    },
    {
      "cell_type": "markdown",
      "metadata": {
        "id": "Mbx1l6KabkS-",
        "colab_type": "text"
      },
      "source": [
        "Use the `np.arange` function to create a ndarray with a given start, end, and stride:"
      ]
    },
    {
      "cell_type": "code",
      "metadata": {
        "id": "91QsT0TZbkS-",
        "colab_type": "code",
        "colab": {
          "base_uri": "https://localhost:8080/",
          "height": 34
        },
        "outputId": "59f18327-ea4c-4760-fc0a-6076d7e32355"
      },
      "source": [
        "np.arange(1.2,6,.5)"
      ],
      "execution_count": 11,
      "outputs": [
        {
          "output_type": "execute_result",
          "data": {
            "text/plain": [
              "array([1.2, 1.7, 2.2, 2.7, 3.2, 3.7, 4.2, 4.7, 5.2, 5.7])"
            ]
          },
          "metadata": {
            "tags": []
          },
          "execution_count": 11
        }
      ]
    },
    {
      "cell_type": "markdown",
      "metadata": {
        "id": "1-gov7KgbkTB",
        "colab_type": "text"
      },
      "source": [
        "Create a ndarray of random numbers. We'll look more at NumPy's random number capabilities later."
      ]
    },
    {
      "cell_type": "code",
      "metadata": {
        "id": "mio2u9p8bkTB",
        "colab_type": "code",
        "colab": {
          "base_uri": "https://localhost:8080/",
          "height": 51
        },
        "outputId": "0aefafe8-e28a-4b76-d2ab-879ca07cc342"
      },
      "source": [
        "np.random.rand(2,2)"
      ],
      "execution_count": 12,
      "outputs": [
        {
          "output_type": "execute_result",
          "data": {
            "text/plain": [
              "array([[0.08894065, 0.64078885],\n",
              "       [0.55248372, 0.51608481]])"
            ]
          },
          "metadata": {
            "tags": []
          },
          "execution_count": 12
        }
      ]
    },
    {
      "cell_type": "markdown",
      "metadata": {
        "id": "NA6LmpE_bkTE",
        "colab_type": "text"
      },
      "source": [
        "### Exercise\n",
        "\n",
        "Create a 1D array starting at 10 and going backwards by 0.5 until 2.5 (inclusive)."
      ]
    },
    {
      "cell_type": "code",
      "metadata": {
        "id": "CEzLF9-7bkTF",
        "colab_type": "code",
        "colab": {
          "base_uri": "https://localhost:8080/",
          "height": 51
        },
        "outputId": "bae2ff76-d08b-4601-c0cd-7e4da4fc1b80"
      },
      "source": [
        "np.arange(10,2,-0.5)"
      ],
      "execution_count": 15,
      "outputs": [
        {
          "output_type": "execute_result",
          "data": {
            "text/plain": [
              "array([10. ,  9.5,  9. ,  8.5,  8. ,  7.5,  7. ,  6.5,  6. ,  5.5,  5. ,\n",
              "        4.5,  4. ,  3.5,  3. ,  2.5])"
            ]
          },
          "metadata": {
            "tags": []
          },
          "execution_count": 15
        }
      ]
    },
    {
      "cell_type": "markdown",
      "metadata": {
        "id": "NxZ92vDDbkTI",
        "colab_type": "text"
      },
      "source": [
        "## Input/Output"
      ]
    },
    {
      "cell_type": "markdown",
      "metadata": {
        "id": "LCbmU5_LbkTI",
        "colab_type": "text"
      },
      "source": [
        "Save a ndarray to a file:"
      ]
    },
    {
      "cell_type": "code",
      "metadata": {
        "scrolled": true,
        "id": "OKQD2Tp3bkTJ",
        "colab_type": "code",
        "colab": {
          "base_uri": "https://localhost:8080/",
          "height": 85
        },
        "outputId": "86fe0cfb-1214-406e-88b4-81a4ac9ba7b7"
      },
      "source": [
        "a = np.random.rand(4,4)\n",
        "print(a)\n",
        "np.savetxt('out.txt',a, fmt='%.4e',delimiter='\\t',header='4 x 4 random array')"
      ],
      "execution_count": 20,
      "outputs": [
        {
          "output_type": "stream",
          "text": [
            "[[0.48254053 0.3155437  0.23285644 0.97547767]\n",
            " [0.09972749 0.83906524 0.00683146 0.03482877]\n",
            " [0.40395131 0.83006248 0.64659471 0.53229006]\n",
            " [0.82668431 0.48525326 0.1659045  0.76600402]]\n"
          ],
          "name": "stdout"
        }
      ]
    },
    {
      "cell_type": "markdown",
      "metadata": {
        "id": "uTfBWRVnbkTL",
        "colab_type": "text"
      },
      "source": [
        "Load the file to a ndarray:"
      ]
    },
    {
      "cell_type": "code",
      "metadata": {
        "id": "VcW33-ctbkTM",
        "colab_type": "code",
        "colab": {
          "base_uri": "https://localhost:8080/",
          "height": 85
        },
        "outputId": "9d3b9763-8fbb-4afa-95fb-2f813d37bc9a"
      },
      "source": [
        "np.loadtxt('out.txt')"
      ],
      "execution_count": 21,
      "outputs": [
        {
          "output_type": "execute_result",
          "data": {
            "text/plain": [
              "array([[0.4825405 , 0.3155437 , 0.2328564 , 0.9754777 ],\n",
              "       [0.09972749, 0.8390652 , 0.00683146, 0.03482877],\n",
              "       [0.4039513 , 0.8300625 , 0.6465947 , 0.5322901 ],\n",
              "       [0.8266843 , 0.4852533 , 0.1659045 , 0.766004  ]])"
            ]
          },
          "metadata": {
            "tags": []
          },
          "execution_count": 21
        }
      ]
    },
    {
      "cell_type": "markdown",
      "metadata": {
        "id": "z4wSoZlibkTO",
        "colab_type": "text"
      },
      "source": [
        "### Exercise"
      ]
    },
    {
      "cell_type": "markdown",
      "metadata": {
        "id": "oOzWBlycbkTP",
        "colab_type": "text"
      },
      "source": [
        "Create a 2 x 3 array of ones. Save it to a file named 'ones.txt', with integer format and separated by single spaces."
      ]
    },
    {
      "cell_type": "code",
      "metadata": {
        "id": "j9bKaAt-bkTP",
        "colab_type": "code",
        "colab": {
          "base_uri": "https://localhost:8080/",
          "height": 51
        },
        "outputId": "46af584b-fe19-4941-e575-99701aef2554"
      },
      "source": [
        "a = np.ones((2,3))\n",
        "print(a)\n",
        "np.savetxt('ones.txt',a, fmt='%d',delimiter=' ')"
      ],
      "execution_count": 22,
      "outputs": [
        {
          "output_type": "stream",
          "text": [
            "[[1. 1. 1.]\n",
            " [1. 1. 1.]]\n"
          ],
          "name": "stdout"
        }
      ]
    },
    {
      "cell_type": "code",
      "metadata": {
        "id": "Yt021FT9bkTS",
        "colab_type": "code",
        "colab": {
          "base_uri": "https://localhost:8080/",
          "height": 51
        },
        "outputId": "7cb9bfc7-3b30-4012-ec9f-7fa10c96f2fd"
      },
      "source": [
        "np.loadtxt('ones.txt')"
      ],
      "execution_count": 23,
      "outputs": [
        {
          "output_type": "execute_result",
          "data": {
            "text/plain": [
              "array([[1., 1., 1.],\n",
              "       [1., 1., 1.]])"
            ]
          },
          "metadata": {
            "tags": []
          },
          "execution_count": 23
        }
      ]
    },
    {
      "cell_type": "markdown",
      "metadata": {
        "id": "P8BEyzjZbkTU",
        "colab_type": "text"
      },
      "source": [
        "## Indexing/Slicing"
      ]
    },
    {
      "cell_type": "markdown",
      "metadata": {
        "id": "v57POxOpbkTV",
        "colab_type": "text"
      },
      "source": [
        "One nice feature of NumPy arrays is the versatility in accessing their components."
      ]
    },
    {
      "cell_type": "markdown",
      "metadata": {
        "id": "ZfQZ8wHmbkTV",
        "colab_type": "text"
      },
      "source": [
        "### Indexing"
      ]
    },
    {
      "cell_type": "code",
      "metadata": {
        "id": "VJYQX-vsbkTW",
        "colab_type": "code",
        "colab": {
          "base_uri": "https://localhost:8080/",
          "height": 68
        },
        "outputId": "241262b9-fb84-448e-f2e7-68abb7f197e2"
      },
      "source": [
        "b = np.array([[1.,2.,3.],[4.,5.,6.],[7.,8.,9.]])\n",
        "print(b)"
      ],
      "execution_count": 24,
      "outputs": [
        {
          "output_type": "stream",
          "text": [
            "[[1. 2. 3.]\n",
            " [4. 5. 6.]\n",
            " [7. 8. 9.]]\n"
          ],
          "name": "stdout"
        }
      ]
    },
    {
      "cell_type": "markdown",
      "metadata": {
        "id": "_X5FpKEdbkTY",
        "colab_type": "text"
      },
      "source": [
        "Array elements and subdimensional arrays can be accessed with square brackets:"
      ]
    },
    {
      "cell_type": "code",
      "metadata": {
        "id": "p96xQ955bkTY",
        "colab_type": "code",
        "colab": {
          "base_uri": "https://localhost:8080/",
          "height": 34
        },
        "outputId": "3732a814-b0ec-40e5-ba98-badd595ec3cc"
      },
      "source": [
        "b[0]"
      ],
      "execution_count": 25,
      "outputs": [
        {
          "output_type": "execute_result",
          "data": {
            "text/plain": [
              "array([1., 2., 3.])"
            ]
          },
          "metadata": {
            "tags": []
          },
          "execution_count": 25
        }
      ]
    },
    {
      "cell_type": "code",
      "metadata": {
        "id": "nbmjTWKDbkTa",
        "colab_type": "code",
        "colab": {
          "base_uri": "https://localhost:8080/",
          "height": 34
        },
        "outputId": "c5518145-d7dc-4472-aca9-e6c164ce82c4"
      },
      "source": [
        "b[0][1]"
      ],
      "execution_count": 26,
      "outputs": [
        {
          "output_type": "execute_result",
          "data": {
            "text/plain": [
              "2.0"
            ]
          },
          "metadata": {
            "tags": []
          },
          "execution_count": 26
        }
      ]
    },
    {
      "cell_type": "markdown",
      "metadata": {
        "id": "X01Wu08rbkTc",
        "colab_type": "text"
      },
      "source": [
        "It's actually more efficient to use the following syntax for multiple indices:"
      ]
    },
    {
      "cell_type": "code",
      "metadata": {
        "id": "WyuCWZV3bkTc",
        "colab_type": "code",
        "colab": {
          "base_uri": "https://localhost:8080/",
          "height": 34
        },
        "outputId": "9cd2321d-ae8f-4dd1-9d93-e738dbec4709"
      },
      "source": [
        "b[0,1]"
      ],
      "execution_count": 27,
      "outputs": [
        {
          "output_type": "execute_result",
          "data": {
            "text/plain": [
              "2.0"
            ]
          },
          "metadata": {
            "tags": []
          },
          "execution_count": 27
        }
      ]
    },
    {
      "cell_type": "code",
      "metadata": {
        "scrolled": true,
        "id": "btAYIEvRbkTf",
        "colab_type": "code",
        "colab": {
          "base_uri": "https://localhost:8080/",
          "height": 68
        },
        "outputId": "67581313-e66d-4f3b-cfbd-12e236bb3d2c"
      },
      "source": [
        "print(b)"
      ],
      "execution_count": 28,
      "outputs": [
        {
          "output_type": "stream",
          "text": [
            "[[1. 2. 3.]\n",
            " [4. 5. 6.]\n",
            " [7. 8. 9.]]\n"
          ],
          "name": "stdout"
        }
      ]
    },
    {
      "cell_type": "markdown",
      "metadata": {
        "id": "VG0ijxNsbkTh",
        "colab_type": "text"
      },
      "source": [
        "Lists of indices can also be used:"
      ]
    },
    {
      "cell_type": "code",
      "metadata": {
        "id": "bgOc7rR5bkTh",
        "colab_type": "code",
        "colab": {
          "base_uri": "https://localhost:8080/",
          "height": 34
        },
        "outputId": "eab6c951-09a0-4c2a-ac5e-b9a78ab7f702"
      },
      "source": [
        "b[0,[0,2]]"
      ],
      "execution_count": 29,
      "outputs": [
        {
          "output_type": "execute_result",
          "data": {
            "text/plain": [
              "array([1., 3.])"
            ]
          },
          "metadata": {
            "tags": []
          },
          "execution_count": 29
        }
      ]
    },
    {
      "cell_type": "code",
      "metadata": {
        "id": "BlYTiZSfbkTk",
        "colab_type": "code",
        "colab": {
          "base_uri": "https://localhost:8080/",
          "height": 34
        },
        "outputId": "c38ad5a0-7c99-4a96-b002-1f7cf6ac3834"
      },
      "source": [
        "b[[0,2],[0,1]]"
      ],
      "execution_count": 30,
      "outputs": [
        {
          "output_type": "execute_result",
          "data": {
            "text/plain": [
              "array([1., 8.])"
            ]
          },
          "metadata": {
            "tags": []
          },
          "execution_count": 30
        }
      ]
    },
    {
      "cell_type": "markdown",
      "metadata": {
        "id": "zglia5LHbkTm",
        "colab_type": "text"
      },
      "source": [
        "A list or array of booleans can also be used:"
      ]
    },
    {
      "cell_type": "code",
      "metadata": {
        "id": "C3wOyWTabkTm",
        "colab_type": "code",
        "colab": {
          "base_uri": "https://localhost:8080/",
          "height": 34
        },
        "outputId": "88ddaeb1-2e78-44fb-a436-46283e840430"
      },
      "source": [
        "c = np.arange(0,.6,.1)\n",
        "print(c)"
      ],
      "execution_count": 31,
      "outputs": [
        {
          "output_type": "stream",
          "text": [
            "[0.  0.1 0.2 0.3 0.4 0.5]\n"
          ],
          "name": "stdout"
        }
      ]
    },
    {
      "cell_type": "code",
      "metadata": {
        "id": "U2cHIEXcbkTo",
        "colab_type": "code",
        "colab": {
          "base_uri": "https://localhost:8080/",
          "height": 34
        },
        "outputId": "06043ad3-b001-44dc-cdef-68b3cfe5cdc2"
      },
      "source": [
        "c[[True,False,False,True,False,True]]"
      ],
      "execution_count": 32,
      "outputs": [
        {
          "output_type": "execute_result",
          "data": {
            "text/plain": [
              "array([0. , 0.3, 0.5])"
            ]
          },
          "metadata": {
            "tags": []
          },
          "execution_count": 32
        }
      ]
    },
    {
      "cell_type": "markdown",
      "metadata": {
        "id": "LRaHrFm6bkTq",
        "colab_type": "text"
      },
      "source": [
        "### Slicing"
      ]
    },
    {
      "cell_type": "code",
      "metadata": {
        "scrolled": true,
        "id": "-Oked_aRbkTq",
        "colab_type": "code",
        "colab": {
          "base_uri": "https://localhost:8080/",
          "height": 68
        },
        "outputId": "1a064bc8-51e5-4086-a255-ca0cabc870ac"
      },
      "source": [
        "print(b)"
      ],
      "execution_count": 47,
      "outputs": [
        {
          "output_type": "stream",
          "text": [
            "[[1. 2. 3.]\n",
            " [4. 5. 6.]\n",
            " [7. 8. 9.]]\n"
          ],
          "name": "stdout"
        }
      ]
    },
    {
      "cell_type": "markdown",
      "metadata": {
        "id": "j0bHEhIWbkTv",
        "colab_type": "text"
      },
      "source": [
        "The colon (:) is used to specify slicing and striding."
      ]
    },
    {
      "cell_type": "markdown",
      "metadata": {
        "id": "vCnPwAk5bkTv",
        "colab_type": "text"
      },
      "source": [
        "Initial and final indices can be given (the final index is not inclusive)."
      ]
    },
    {
      "cell_type": "code",
      "metadata": {
        "id": "NzSGJBSCbkTv",
        "colab_type": "code",
        "colab": {
          "base_uri": "https://localhost:8080/",
          "height": 51
        },
        "outputId": "8285eb24-72a6-4a3e-b152-89dd13c49d2b"
      },
      "source": [
        "b[1:3,0:2]"
      ],
      "execution_count": 51,
      "outputs": [
        {
          "output_type": "execute_result",
          "data": {
            "text/plain": [
              "array([[4., 5.],\n",
              "       [7., 8.]])"
            ]
          },
          "metadata": {
            "tags": []
          },
          "execution_count": 51
        }
      ]
    },
    {
      "cell_type": "code",
      "metadata": {
        "scrolled": true,
        "id": "9pgNm3T6bkTx",
        "colab_type": "code",
        "colab": {
          "base_uri": "https://localhost:8080/",
          "height": 68
        },
        "outputId": "dce4beab-9042-41cd-8cdf-db17ed64036d"
      },
      "source": [
        "print(b)"
      ],
      "execution_count": 42,
      "outputs": [
        {
          "output_type": "stream",
          "text": [
            "[[1. 2. 3.]\n",
            " [4. 5. 6.]\n",
            " [7. 8. 9.]]\n"
          ],
          "name": "stdout"
        }
      ]
    },
    {
      "cell_type": "markdown",
      "metadata": {
        "id": "nfYteBEwbkTz",
        "colab_type": "text"
      },
      "source": [
        "The initial index can be dropped to start at the beginning.\n",
        "The final index can be dropped to go to the end."
      ]
    },
    {
      "cell_type": "code",
      "metadata": {
        "id": "pLF9TkvrbkT0",
        "colab_type": "code",
        "colab": {
          "base_uri": "https://localhost:8080/",
          "height": 51
        },
        "outputId": "4e9954f1-a72d-4d43-ad00-394f82a49264"
      },
      "source": [
        "b[1:,:2]"
      ],
      "execution_count": 52,
      "outputs": [
        {
          "output_type": "execute_result",
          "data": {
            "text/plain": [
              "array([[4., 5.],\n",
              "       [7., 8.]])"
            ]
          },
          "metadata": {
            "tags": []
          },
          "execution_count": 52
        }
      ]
    },
    {
      "cell_type": "markdown",
      "metadata": {
        "id": "78H58zDrbkT2",
        "colab_type": "text"
      },
      "source": [
        "If both indices are dropped, all elements along that axis are taken:"
      ]
    },
    {
      "cell_type": "code",
      "metadata": {
        "id": "GsZVfLMtbkT2",
        "colab_type": "code",
        "colab": {
          "base_uri": "https://localhost:8080/",
          "height": 34
        },
        "outputId": "93392a1e-3933-45ae-bddf-268df91d307f"
      },
      "source": [
        "b[:,0]"
      ],
      "execution_count": 55,
      "outputs": [
        {
          "output_type": "execute_result",
          "data": {
            "text/plain": [
              "array([1., 4., 7.])"
            ]
          },
          "metadata": {
            "tags": []
          },
          "execution_count": 55
        }
      ]
    },
    {
      "cell_type": "markdown",
      "metadata": {
        "id": "Jb7GGYSjbkT6",
        "colab_type": "text"
      },
      "source": [
        "A second colon can be used to define a stride:"
      ]
    },
    {
      "cell_type": "code",
      "metadata": {
        "id": "BPeCj3fBbkT6",
        "colab_type": "code",
        "colab": {
          "base_uri": "https://localhost:8080/",
          "height": 34
        },
        "outputId": "50e22036-f807-421f-a9a6-a32bb65d7a90"
      },
      "source": [
        "c = np.arange(0,1,.1)\n",
        "print(c)"
      ],
      "execution_count": 56,
      "outputs": [
        {
          "output_type": "stream",
          "text": [
            "[0.  0.1 0.2 0.3 0.4 0.5 0.6 0.7 0.8 0.9]\n"
          ],
          "name": "stdout"
        }
      ]
    },
    {
      "cell_type": "code",
      "metadata": {
        "id": "HVDxAHKTbkT8",
        "colab_type": "code",
        "colab": {
          "base_uri": "https://localhost:8080/",
          "height": 34
        },
        "outputId": "3e3f0ad7-df03-4dca-c926-7d4ce71e90c2"
      },
      "source": [
        "c[1:9:2]"
      ],
      "execution_count": 57,
      "outputs": [
        {
          "output_type": "execute_result",
          "data": {
            "text/plain": [
              "array([0.1, 0.3, 0.5, 0.7])"
            ]
          },
          "metadata": {
            "tags": []
          },
          "execution_count": 57
        }
      ]
    },
    {
      "cell_type": "markdown",
      "metadata": {
        "id": "VlkGS_KIbkT-",
        "colab_type": "text"
      },
      "source": [
        "### Exercise"
      ]
    },
    {
      "cell_type": "markdown",
      "metadata": {
        "id": "RVdRJhYYbkT_",
        "colab_type": "raw"
      },
      "source": [
        "**Create** a 5 x 5 array of zeros. Replace the 2nd and 4th rows and columns with 1's."
      ]
    },
    {
      "cell_type": "code",
      "metadata": {
        "id": "0wgrQdugbkT_",
        "colab_type": "code",
        "colab": {
          "base_uri": "https://localhost:8080/",
          "height": 187
        },
        "outputId": "3b9d5879-02b7-4008-89bd-6b8cd3b0582b"
      },
      "source": [
        "a = np.zeros((5,5))\n",
        "print(a)\n",
        "a[[1,3],:] = 1\n",
        "print(a)"
      ],
      "execution_count": 58,
      "outputs": [
        {
          "output_type": "stream",
          "text": [
            "[[0. 0. 0. 0. 0.]\n",
            " [0. 0. 0. 0. 0.]\n",
            " [0. 0. 0. 0. 0.]\n",
            " [0. 0. 0. 0. 0.]\n",
            " [0. 0. 0. 0. 0.]]\n",
            "[[0. 0. 0. 0. 0.]\n",
            " [1. 1. 1. 1. 1.]\n",
            " [0. 0. 0. 0. 0.]\n",
            " [1. 1. 1. 1. 1.]\n",
            " [0. 0. 0. 0. 0.]]\n"
          ],
          "name": "stdout"
        }
      ]
    },
    {
      "cell_type": "markdown",
      "metadata": {
        "id": "P3NADUbpbkUB",
        "colab_type": "text"
      },
      "source": [
        "## Copies and views"
      ]
    },
    {
      "cell_type": "markdown",
      "metadata": {
        "id": "_cw7z5UibkUB",
        "colab_type": "text"
      },
      "source": [
        "When assigning data to a ndarray from a previous ndarray, three things can happen:\n",
        "- No copy is made\n",
        "- A shallow copy (a \"view\") is made\n",
        "- A deep copy is made"
      ]
    },
    {
      "cell_type": "markdown",
      "metadata": {
        "id": "LEQUNHUkbkUC",
        "colab_type": "text"
      },
      "source": [
        "- A simple assignment from one ndarray to another results in no copy being made.\n",
        "- The original ndarray is simple given an additional name."
      ]
    },
    {
      "cell_type": "code",
      "metadata": {
        "id": "snVywP1lbkUC",
        "colab_type": "code",
        "colab": {
          "base_uri": "https://localhost:8080/",
          "height": 34
        },
        "outputId": "0b97700f-4452-4e04-e328-895ba16980d1"
      },
      "source": [
        "a = np.random.rand(2,4)\n",
        "b = a\n",
        "a is b"
      ],
      "execution_count": 59,
      "outputs": [
        {
          "output_type": "execute_result",
          "data": {
            "text/plain": [
              "True"
            ]
          },
          "metadata": {
            "tags": []
          },
          "execution_count": 59
        }
      ]
    },
    {
      "cell_type": "markdown",
      "metadata": {
        "id": "uCbhVYwgbkUE",
        "colab_type": "text"
      },
      "source": [
        "- Changes can be made using either name:"
      ]
    },
    {
      "cell_type": "code",
      "metadata": {
        "id": "BTmA_t8kbkUE",
        "colab_type": "code",
        "colab": {}
      },
      "source": [
        "print(a)"
      ],
      "execution_count": null,
      "outputs": []
    },
    {
      "cell_type": "code",
      "metadata": {
        "id": "ZzAvE7aKbkUH",
        "colab_type": "code",
        "colab": {
          "base_uri": "https://localhost:8080/",
          "height": 51
        },
        "outputId": "30c027ea-f805-4be8-a143-cbbc90f2d600"
      },
      "source": [
        "b[0,0] = 0.\n",
        "print(a)"
      ],
      "execution_count": 60,
      "outputs": [
        {
          "output_type": "stream",
          "text": [
            "[[0.         0.91558204 0.25608989 0.3691255 ]\n",
            " [0.56574134 0.81492356 0.19977502 0.71934695]]\n"
          ],
          "name": "stdout"
        }
      ]
    },
    {
      "cell_type": "markdown",
      "metadata": {
        "id": "2CUyxSVrbkUL",
        "colab_type": "text"
      },
      "source": [
        "- A shallow copy or \"view\" creates a new ndarray.\n",
        "- Data is still shared with the original array.\n",
        "- A view can be explicity created using the `view()` method."
      ]
    },
    {
      "cell_type": "code",
      "metadata": {
        "id": "LOrz-LHdbkUN",
        "colab_type": "code",
        "colab": {
          "base_uri": "https://localhost:8080/",
          "height": 34
        },
        "outputId": "86c57a71-e54a-45b4-b84f-879f96d80829"
      },
      "source": [
        "c = a.view()\n",
        "c is a"
      ],
      "execution_count": 68,
      "outputs": [
        {
          "output_type": "execute_result",
          "data": {
            "text/plain": [
              "False"
            ]
          },
          "metadata": {
            "tags": []
          },
          "execution_count": 68
        }
      ]
    },
    {
      "cell_type": "code",
      "metadata": {
        "id": "B3kcYzgPbkUR",
        "colab_type": "code",
        "colab": {
          "base_uri": "https://localhost:8080/",
          "height": 34
        },
        "outputId": "edbdcf04-3ce4-4285-f4a8-a667fac0ee2f"
      },
      "source": [
        "c.base is a"
      ],
      "execution_count": 69,
      "outputs": [
        {
          "output_type": "execute_result",
          "data": {
            "text/plain": [
              "True"
            ]
          },
          "metadata": {
            "tags": []
          },
          "execution_count": 69
        }
      ]
    },
    {
      "cell_type": "code",
      "metadata": {
        "id": "WEEK-ZP1bkUU",
        "colab_type": "code",
        "colab": {
          "base_uri": "https://localhost:8080/",
          "height": 51
        },
        "outputId": "b3415ef1-43f3-4489-dc5e-08d53f9c8920"
      },
      "source": [
        "print(a)"
      ],
      "execution_count": 70,
      "outputs": [
        {
          "output_type": "stream",
          "text": [
            "[[0.         0.91558204 0.25608989 0.3691255 ]\n",
            " [0.56574134 0.81492356 0.19977502 0.71934695]]\n"
          ],
          "name": "stdout"
        }
      ]
    },
    {
      "cell_type": "code",
      "metadata": {
        "id": "ntxpo1UtbkUX",
        "colab_type": "code",
        "colab": {
          "base_uri": "https://localhost:8080/",
          "height": 51
        },
        "outputId": "6cfb1987-e7a7-4e09-8239-839824f41fff"
      },
      "source": [
        "c[0,1] = 1.\n",
        "print(a)"
      ],
      "execution_count": 66,
      "outputs": [
        {
          "output_type": "stream",
          "text": [
            "[[0.         0.91558204 0.25608989 0.3691255 ]\n",
            " [0.56574134 0.81492356 0.19977502 0.71934695]]\n"
          ],
          "name": "stdout"
        }
      ]
    },
    {
      "cell_type": "markdown",
      "metadata": {
        "id": "amYMtWzibkUa",
        "colab_type": "text"
      },
      "source": [
        "Simple slicing also returns a view:"
      ]
    },
    {
      "cell_type": "code",
      "metadata": {
        "id": "nyr425eVbkUb",
        "colab_type": "code",
        "colab": {
          "base_uri": "https://localhost:8080/",
          "height": 68
        },
        "outputId": "709e99df-2437-4ecc-ac08-c237fe317201"
      },
      "source": [
        "d = a[:,1]\n",
        "print(d)\n",
        "print(a)"
      ],
      "execution_count": 71,
      "outputs": [
        {
          "output_type": "stream",
          "text": [
            "[0.91558204 0.81492356]\n",
            "[[0.         0.91558204 0.25608989 0.3691255 ]\n",
            " [0.56574134 0.81492356 0.19977502 0.71934695]]\n"
          ],
          "name": "stdout"
        }
      ]
    },
    {
      "cell_type": "code",
      "metadata": {
        "id": "XB2rpSlFbkUd",
        "colab_type": "code",
        "colab": {}
      },
      "source": [
        "d[1] = 2.\n",
        "print(d)\n",
        "print(a)\n",
        "d.base is a"
      ],
      "execution_count": null,
      "outputs": []
    },
    {
      "cell_type": "markdown",
      "metadata": {
        "id": "Wwe52-NzbkUf",
        "colab_type": "text"
      },
      "source": [
        "- A deep copy creates a new ndarray.\n",
        "- Data is NOT shared with the original ndarray.\n",
        "- A deep copy can be forced by using the `copy` method:"
      ]
    },
    {
      "cell_type": "code",
      "metadata": {
        "id": "3MEoetXQbkUg",
        "colab_type": "code",
        "colab": {
          "base_uri": "https://localhost:8080/",
          "height": 34
        },
        "outputId": "9af4e948-c2d5-4498-d87a-d1cb8543ae5f"
      },
      "source": [
        "e = a.copy()\n",
        "e.base is a"
      ],
      "execution_count": 72,
      "outputs": [
        {
          "output_type": "execute_result",
          "data": {
            "text/plain": [
              "False"
            ]
          },
          "metadata": {
            "tags": []
          },
          "execution_count": 72
        }
      ]
    },
    {
      "cell_type": "code",
      "metadata": {
        "id": "OFlWE1H7bkUh",
        "colab_type": "code",
        "colab": {
          "base_uri": "https://localhost:8080/",
          "height": 34
        },
        "outputId": "ee0dd1b2-62d1-4422-c970-2c67cbe608ee"
      },
      "source": [
        "e.base is a"
      ],
      "execution_count": 73,
      "outputs": [
        {
          "output_type": "execute_result",
          "data": {
            "text/plain": [
              "False"
            ]
          },
          "metadata": {
            "tags": []
          },
          "execution_count": 73
        }
      ]
    },
    {
      "cell_type": "code",
      "metadata": {
        "id": "OuUVoT0ibkUj",
        "colab_type": "code",
        "colab": {
          "base_uri": "https://localhost:8080/",
          "height": 51
        },
        "outputId": "890943d4-4de4-445b-e46d-a3d503e1e116"
      },
      "source": [
        "print(a)"
      ],
      "execution_count": 74,
      "outputs": [
        {
          "output_type": "stream",
          "text": [
            "[[0.         0.91558204 0.25608989 0.3691255 ]\n",
            " [0.56574134 0.81492356 0.19977502 0.71934695]]\n"
          ],
          "name": "stdout"
        }
      ]
    },
    {
      "cell_type": "code",
      "metadata": {
        "scrolled": true,
        "id": "UzTeBB8EbkUm",
        "colab_type": "code",
        "colab": {
          "base_uri": "https://localhost:8080/",
          "height": 51
        },
        "outputId": "7e121a61-22dd-41fc-a457-7e49ab460d93"
      },
      "source": [
        "e[0,0] = 1.5\n",
        "print(e)"
      ],
      "execution_count": 75,
      "outputs": [
        {
          "output_type": "stream",
          "text": [
            "[[1.5        0.91558204 0.25608989 0.3691255 ]\n",
            " [0.56574134 0.81492356 0.19977502 0.71934695]]\n"
          ],
          "name": "stdout"
        }
      ]
    },
    {
      "cell_type": "code",
      "metadata": {
        "id": "ZQA4Um0RbkUp",
        "colab_type": "code",
        "colab": {
          "base_uri": "https://localhost:8080/",
          "height": 51
        },
        "outputId": "239d7180-8de0-4925-a128-cb37f8662ee8"
      },
      "source": [
        "print(a)"
      ],
      "execution_count": 76,
      "outputs": [
        {
          "output_type": "stream",
          "text": [
            "[[0.         0.91558204 0.25608989 0.3691255 ]\n",
            " [0.56574134 0.81492356 0.19977502 0.71934695]]\n"
          ],
          "name": "stdout"
        }
      ]
    },
    {
      "cell_type": "markdown",
      "metadata": {
        "id": "r2cfOOn4bkUq",
        "colab_type": "text"
      },
      "source": [
        "- \"Complicated\" indexing returns a deep copy, not a view:"
      ]
    },
    {
      "cell_type": "code",
      "metadata": {
        "id": "YakP40YybkUr",
        "colab_type": "code",
        "colab": {
          "base_uri": "https://localhost:8080/",
          "height": 34
        },
        "outputId": "48aabc30-4f15-4385-923b-55a92a26d935"
      },
      "source": [
        "f = a[1,[0,2,3]]\n",
        "f.base is a"
      ],
      "execution_count": 77,
      "outputs": [
        {
          "output_type": "execute_result",
          "data": {
            "text/plain": [
              "False"
            ]
          },
          "metadata": {
            "tags": []
          },
          "execution_count": 77
        }
      ]
    },
    {
      "cell_type": "markdown",
      "metadata": {
        "id": "ymSiOZ-IbkUt",
        "colab_type": "text"
      },
      "source": [
        "## Exercise\n",
        "- Some methods of indexing return a view and others return a deep copy. Check the following indexing methods to see which returns what:"
      ]
    },
    {
      "cell_type": "code",
      "metadata": {
        "id": "sVHdGuMTbkUu",
        "colab_type": "code",
        "colab": {
          "base_uri": "https://localhost:8080/",
          "height": 34
        },
        "outputId": "c1e54bdb-85cb-4624-dd42-e2fc93e63650"
      },
      "source": [
        "g = a[1:,:]\n",
        "g.base is a"
      ],
      "execution_count": 82,
      "outputs": [
        {
          "output_type": "execute_result",
          "data": {
            "text/plain": [
              "True"
            ]
          },
          "metadata": {
            "tags": []
          },
          "execution_count": 82
        }
      ]
    },
    {
      "cell_type": "code",
      "metadata": {
        "id": "7XDi4rjqbkUx",
        "colab_type": "code",
        "colab": {
          "base_uri": "https://localhost:8080/",
          "height": 34
        },
        "outputId": "22f7b8d2-6a53-47d6-ea95-0f581d3a40e4"
      },
      "source": [
        "g = a[0,[0,1,2,3]]\n",
        "g.base is a"
      ],
      "execution_count": 80,
      "outputs": [
        {
          "output_type": "execute_result",
          "data": {
            "text/plain": [
              "False"
            ]
          },
          "metadata": {
            "tags": []
          },
          "execution_count": 80
        }
      ]
    },
    {
      "cell_type": "code",
      "metadata": {
        "id": "ZrZVeSJ9bkUz",
        "colab_type": "code",
        "colab": {
          "base_uri": "https://localhost:8080/",
          "height": 34
        },
        "outputId": "a5c65985-8d4c-43b1-9e6b-759299d01756"
      },
      "source": [
        "g = a[0,2]\n",
        "g.base is a"
      ],
      "execution_count": 83,
      "outputs": [
        {
          "output_type": "execute_result",
          "data": {
            "text/plain": [
              "False"
            ]
          },
          "metadata": {
            "tags": []
          },
          "execution_count": 83
        }
      ]
    },
    {
      "cell_type": "markdown",
      "metadata": {
        "id": "F9wu0zPobkU0",
        "colab_type": "text"
      },
      "source": [
        "## Combining arrays"
      ]
    },
    {
      "cell_type": "markdown",
      "metadata": {
        "id": "p5LeVjc2bkU0",
        "colab_type": "text"
      },
      "source": [
        "NumPy has multiple functions that combine a sequence of ndarrays into a single ndarray."
      ]
    },
    {
      "cell_type": "markdown",
      "metadata": {
        "id": "8eBBg7nTbkU1",
        "colab_type": "text"
      },
      "source": [
        "### `np.concatenate`"
      ]
    },
    {
      "cell_type": "markdown",
      "metadata": {
        "id": "A29ZOznrbkU1",
        "colab_type": "text"
      },
      "source": [
        "\n",
        "`np.concatenate` combines ndarrays while maintaining the dimensionality of the original ndarrays\n",
        "- e.g. 2D arrays combine to form a larger 2D array"
      ]
    },
    {
      "cell_type": "code",
      "metadata": {
        "id": "OppeJIzPbkU1",
        "colab_type": "code",
        "colab": {
          "base_uri": "https://localhost:8080/",
          "height": 85
        },
        "outputId": "86c305ec-d932-4f80-c3f4-a7e07fbe34a3"
      },
      "source": [
        "a = np.random.rand(2,2)\n",
        "b = np.random.rand(2,2)\n",
        "np.concatenate((a,b))"
      ],
      "execution_count": 91,
      "outputs": [
        {
          "output_type": "execute_result",
          "data": {
            "text/plain": [
              "array([[0.60024463, 0.95469355],\n",
              "       [0.04421584, 0.40010011],\n",
              "       [0.76530097, 0.54429338],\n",
              "       [0.50911176, 0.02005925]])"
            ]
          },
          "metadata": {
            "tags": []
          },
          "execution_count": 91
        }
      ]
    },
    {
      "cell_type": "markdown",
      "metadata": {
        "id": "cr98VYpCbkU3",
        "colab_type": "text"
      },
      "source": [
        "Arrays must have the same size, except in the dimension along which they are being combined.\n",
        "- e.g., two arrays with sizes (3,4,4) and (2,4,4) can be concatenated along the 0-axis, but not the 1-axis or 2-axis."
      ]
    },
    {
      "cell_type": "markdown",
      "metadata": {
        "id": "RF391jhebkU3",
        "colab_type": "text"
      },
      "source": [
        "The axis argument is used to define the axis along which the arrays will be concatenated.\n",
        "- e.g., `axis=0` combines the two arrays as concatenated rows, with a final size of (4,2).\n",
        "- This is the default behavior."
      ]
    },
    {
      "cell_type": "code",
      "metadata": {
        "id": "MsnazPt1bkU4",
        "colab_type": "code",
        "colab": {
          "base_uri": "https://localhost:8080/",
          "height": 85
        },
        "outputId": "cc7c8fdc-94d2-4268-f347-7921076845c3"
      },
      "source": [
        "np.concatenate((a,b),axis=0)"
      ],
      "execution_count": 94,
      "outputs": [
        {
          "output_type": "execute_result",
          "data": {
            "text/plain": [
              "array([[0.60024463, 0.95469355],\n",
              "       [0.04421584, 0.40010011],\n",
              "       [0.76530097, 0.54429338],\n",
              "       [0.50911176, 0.02005925]])"
            ]
          },
          "metadata": {
            "tags": []
          },
          "execution_count": 94
        }
      ]
    },
    {
      "cell_type": "markdown",
      "metadata": {
        "id": "sSFXXP37bkU6",
        "colab_type": "text"
      },
      "source": [
        "Using `axis=1` combines the arrays as concatenated columns, with a final size of (2,4)."
      ]
    },
    {
      "cell_type": "code",
      "metadata": {
        "scrolled": true,
        "id": "-oAhw_YlbkU6",
        "colab_type": "code",
        "colab": {
          "base_uri": "https://localhost:8080/",
          "height": 51
        },
        "outputId": "c987101e-f507-4d26-b7f8-65775479a8fb"
      },
      "source": [
        "np.concatenate((a,b),axis=1)"
      ],
      "execution_count": 95,
      "outputs": [
        {
          "output_type": "execute_result",
          "data": {
            "text/plain": [
              "array([[0.60024463, 0.95469355, 0.76530097, 0.54429338],\n",
              "       [0.04421584, 0.40010011, 0.50911176, 0.02005925]])"
            ]
          },
          "metadata": {
            "tags": []
          },
          "execution_count": 95
        }
      ]
    },
    {
      "cell_type": "markdown",
      "metadata": {
        "id": "v5xcLBfCbkU8",
        "colab_type": "text"
      },
      "source": [
        "### `np.vstack` and `np.hstack`"
      ]
    },
    {
      "cell_type": "markdown",
      "metadata": {
        "id": "eG0nJ16dbkU9",
        "colab_type": "text"
      },
      "source": [
        "The `np.vstack` function (\"vertical stack\") is a shortcut for `np.concatenate` with `axis=0`:"
      ]
    },
    {
      "cell_type": "code",
      "metadata": {
        "id": "sI5lqu9UbkU9",
        "colab_type": "code",
        "colab": {
          "base_uri": "https://localhost:8080/",
          "height": 85
        },
        "outputId": "6c73dab8-20b3-4abd-af5f-4afb6b7a8c92"
      },
      "source": [
        "np.vstack((a,b))"
      ],
      "execution_count": 96,
      "outputs": [
        {
          "output_type": "execute_result",
          "data": {
            "text/plain": [
              "array([[0.60024463, 0.95469355],\n",
              "       [0.04421584, 0.40010011],\n",
              "       [0.76530097, 0.54429338],\n",
              "       [0.50911176, 0.02005925]])"
            ]
          },
          "metadata": {
            "tags": []
          },
          "execution_count": 96
        }
      ]
    },
    {
      "cell_type": "markdown",
      "metadata": {
        "id": "B49hGjpebkU-",
        "colab_type": "text"
      },
      "source": [
        "The `np.hstack` function (\"horizontal stack\") is a shortcut for `np.concatenate` with `axis=1`:"
      ]
    },
    {
      "cell_type": "code",
      "metadata": {
        "id": "tFHIlAmDbkU_",
        "colab_type": "code",
        "colab": {
          "base_uri": "https://localhost:8080/",
          "height": 51
        },
        "outputId": "3eb06d83-d8af-4a47-d628-0436f246eaa0"
      },
      "source": [
        "np.hstack((a,b))"
      ],
      "execution_count": 97,
      "outputs": [
        {
          "output_type": "execute_result",
          "data": {
            "text/plain": [
              "array([[0.60024463, 0.95469355, 0.76530097, 0.54429338],\n",
              "       [0.04421584, 0.40010011, 0.50911176, 0.02005925]])"
            ]
          },
          "metadata": {
            "tags": []
          },
          "execution_count": 97
        }
      ]
    },
    {
      "cell_type": "markdown",
      "metadata": {
        "id": "o42yjVsIbkVB",
        "colab_type": "text"
      },
      "source": [
        "### `np.stack`"
      ]
    },
    {
      "cell_type": "markdown",
      "metadata": {
        "id": "Ak42S_s1bkVB",
        "colab_type": "text"
      },
      "source": [
        "- The function `np.stack` combines a sequence of arrays while increasing the dimensionality by one.\n",
        "- The arrays being combined must all have the same size."
      ]
    },
    {
      "cell_type": "code",
      "metadata": {
        "id": "fXnoArQSbkVC",
        "colab_type": "code",
        "colab": {
          "base_uri": "https://localhost:8080/",
          "height": 102
        },
        "outputId": "54139db1-dd32-44d0-ed2a-752be26a0fd9"
      },
      "source": [
        "np.stack((a,b))"
      ],
      "execution_count": 98,
      "outputs": [
        {
          "output_type": "execute_result",
          "data": {
            "text/plain": [
              "array([[[0.60024463, 0.95469355],\n",
              "        [0.04421584, 0.40010011]],\n",
              "\n",
              "       [[0.76530097, 0.54429338],\n",
              "        [0.50911176, 0.02005925]]])"
            ]
          },
          "metadata": {
            "tags": []
          },
          "execution_count": 98
        }
      ]
    },
    {
      "cell_type": "markdown",
      "metadata": {
        "id": "cz7WNLSQbkVD",
        "colab_type": "text"
      },
      "source": [
        "### Exercise\n",
        "\n",
        "Combine the following 2D array of x data with the 1D array of y data into a single 10x3 array. (This might be done, for example, if you were going to save the data in a single file.)"
      ]
    },
    {
      "cell_type": "code",
      "metadata": {
        "id": "WmoDqLG4bkVD",
        "colab_type": "code",
        "colab": {
          "base_uri": "https://localhost:8080/",
          "height": 34
        },
        "outputId": "b8530fe2-7e9f-4147-8286-2f84df2ee5c8"
      },
      "source": [
        "x = np.random.rand(10,2)\n",
        "y = np.random.rand(10,1)\n",
        "\n",
        "np.hstack((x,y)).shape\n",
        "np.concatenate((x,y), axis = 1).shape"
      ],
      "execution_count": 101,
      "outputs": [
        {
          "output_type": "execute_result",
          "data": {
            "text/plain": [
              "(10, 3)"
            ]
          },
          "metadata": {
            "tags": []
          },
          "execution_count": 101
        }
      ]
    },
    {
      "cell_type": "markdown",
      "metadata": {
        "id": "Oxlqj-ODbkVE",
        "colab_type": "text"
      },
      "source": [
        "## Manipulating array shape"
      ]
    },
    {
      "cell_type": "markdown",
      "metadata": {
        "id": "gzu7LcWUbkVF",
        "colab_type": "text"
      },
      "source": [
        "The dimensions of a ndarray are called it's \"shape.\""
      ]
    },
    {
      "cell_type": "code",
      "metadata": {
        "id": "zdoD-MiWbkVF",
        "colab_type": "code",
        "colab": {
          "base_uri": "https://localhost:8080/",
          "height": 68
        },
        "outputId": "a0b7ba3d-5e39-4438-b9ea-8bf19a8e9baf"
      },
      "source": [
        "a = np.random.rand(3,2)\n",
        "print(a)"
      ],
      "execution_count": 102,
      "outputs": [
        {
          "output_type": "stream",
          "text": [
            "[[0.69628003 0.73502359]\n",
            " [0.74194335 0.12427013]\n",
            " [0.26379154 0.82362577]]\n"
          ],
          "name": "stdout"
        }
      ]
    },
    {
      "cell_type": "code",
      "metadata": {
        "id": "e0UGWP-JbkVG",
        "colab_type": "code",
        "colab": {
          "base_uri": "https://localhost:8080/",
          "height": 34
        },
        "outputId": "644fb161-994a-43d7-dac8-e16fda023e86"
      },
      "source": [
        "a.shape"
      ],
      "execution_count": 103,
      "outputs": [
        {
          "output_type": "execute_result",
          "data": {
            "text/plain": [
              "(3, 2)"
            ]
          },
          "metadata": {
            "tags": []
          },
          "execution_count": 103
        }
      ]
    },
    {
      "cell_type": "markdown",
      "metadata": {
        "id": "xvPVsQFDbkVJ",
        "colab_type": "text"
      },
      "source": [
        "The ndarray can be flattened into a 1D array (the default is to go row-by-row):"
      ]
    },
    {
      "cell_type": "code",
      "metadata": {
        "id": "h4AG_L7RbkVJ",
        "colab_type": "code",
        "colab": {
          "base_uri": "https://localhost:8080/",
          "height": 51
        },
        "outputId": "02e4e860-1f70-46f0-996e-4c2d4b7327d6"
      },
      "source": [
        "a.flatten()"
      ],
      "execution_count": 104,
      "outputs": [
        {
          "output_type": "execute_result",
          "data": {
            "text/plain": [
              "array([0.69628003, 0.73502359, 0.74194335, 0.12427013, 0.26379154,\n",
              "       0.82362577])"
            ]
          },
          "metadata": {
            "tags": []
          },
          "execution_count": 104
        }
      ]
    },
    {
      "cell_type": "code",
      "metadata": {
        "id": "s6FKJTjjbkVL",
        "colab_type": "code",
        "colab": {
          "base_uri": "https://localhost:8080/",
          "height": 51
        },
        "outputId": "8d3d333d-168f-48aa-ddd8-28b5e55668ef"
      },
      "source": [
        "a.ravel() "
      ],
      "execution_count": 108,
      "outputs": [
        {
          "output_type": "execute_result",
          "data": {
            "text/plain": [
              "array([0.69628003, 0.73502359, 0.74194335, 0.12427013, 0.26379154,\n",
              "       0.82362577])"
            ]
          },
          "metadata": {
            "tags": []
          },
          "execution_count": 108
        }
      ]
    },
    {
      "cell_type": "code",
      "metadata": {
        "id": "uy98_L7pW9S_",
        "colab_type": "code",
        "colab": {
          "base_uri": "https://localhost:8080/",
          "height": 34
        },
        "outputId": "df7befb0-4e2d-49c3-b6d0-bc7c0a353adb"
      },
      "source": [
        "a.flatten().base is a\n",
        "a.ravel().base is a"
      ],
      "execution_count": 111,
      "outputs": [
        {
          "output_type": "execute_result",
          "data": {
            "text/plain": [
              "True"
            ]
          },
          "metadata": {
            "tags": []
          },
          "execution_count": 111
        }
      ]
    },
    {
      "cell_type": "markdown",
      "metadata": {
        "id": "a9IeLgR3bkVO",
        "colab_type": "text"
      },
      "source": [
        "`flatten()` always returns a deep copy, whereas `ravel()` will return a view, if possible."
      ]
    },
    {
      "cell_type": "markdown",
      "metadata": {
        "id": "-wUSBKD9bkVO",
        "colab_type": "text"
      },
      "source": [
        "The dimensions can be modified more generally, as long as the total number of elements remains the same (using -1 tells reshape to figure out what the number should be):"
      ]
    },
    {
      "cell_type": "code",
      "metadata": {
        "id": "KN92HxwXbkVP",
        "colab_type": "code",
        "colab": {
          "base_uri": "https://localhost:8080/",
          "height": 51
        },
        "outputId": "12ee585f-d72c-46c4-faa7-f116432e065d"
      },
      "source": [
        "a.reshape(2,3)"
      ],
      "execution_count": 112,
      "outputs": [
        {
          "output_type": "execute_result",
          "data": {
            "text/plain": [
              "array([[0.69628003, 0.73502359, 0.74194335],\n",
              "       [0.12427013, 0.26379154, 0.82362577]])"
            ]
          },
          "metadata": {
            "tags": []
          },
          "execution_count": 112
        }
      ]
    },
    {
      "cell_type": "code",
      "metadata": {
        "id": "ATbvg2TPbkVQ",
        "colab_type": "code",
        "colab": {
          "base_uri": "https://localhost:8080/",
          "height": 68
        },
        "outputId": "10a5302f-89bf-40a9-9ff3-af632037a8f8"
      },
      "source": [
        "a.reshape(2,1,-1)"
      ],
      "execution_count": 113,
      "outputs": [
        {
          "output_type": "execute_result",
          "data": {
            "text/plain": [
              "array([[[0.69628003, 0.73502359, 0.74194335]],\n",
              "\n",
              "       [[0.12427013, 0.26379154, 0.82362577]]])"
            ]
          },
          "metadata": {
            "tags": []
          },
          "execution_count": 113
        }
      ]
    },
    {
      "cell_type": "code",
      "metadata": {
        "id": "sK42VirubkVR",
        "colab_type": "code",
        "colab": {
          "base_uri": "https://localhost:8080/",
          "height": 68
        },
        "outputId": "df4feed6-9b7d-49cb-bd57-84a07658a1ea"
      },
      "source": [
        "print(a)"
      ],
      "execution_count": 114,
      "outputs": [
        {
          "output_type": "stream",
          "text": [
            "[[0.69628003 0.73502359]\n",
            " [0.74194335 0.12427013]\n",
            " [0.26379154 0.82362577]]\n"
          ],
          "name": "stdout"
        }
      ]
    },
    {
      "cell_type": "markdown",
      "metadata": {
        "id": "QDLBLPhJbkVV",
        "colab_type": "text"
      },
      "source": [
        "Note that `reshape` is returning a view. To actually modify the ndarray, use `resize`:"
      ]
    },
    {
      "cell_type": "code",
      "metadata": {
        "id": "PNLpKgHzbkVV",
        "colab_type": "code",
        "colab": {
          "base_uri": "https://localhost:8080/",
          "height": 68
        },
        "outputId": "bdf12f2b-01da-4b4a-fa85-5d8f95aee0a5"
      },
      "source": [
        "a.resize(2,1,3)\n",
        "print(a)"
      ],
      "execution_count": 115,
      "outputs": [
        {
          "output_type": "stream",
          "text": [
            "[[[0.69628003 0.73502359 0.74194335]]\n",
            "\n",
            " [[0.12427013 0.26379154 0.82362577]]]\n"
          ],
          "name": "stdout"
        }
      ]
    },
    {
      "cell_type": "markdown",
      "metadata": {
        "id": "72pKit8UbkVW",
        "colab_type": "text"
      },
      "source": [
        "### Exercise\n",
        "\n",
        "The following array provides [x,y,z] data on a grid (used, for example, for a surface plot). Reshape the array into an Nx3 array (e.g. for output to a file, or for a scatter plot)."
      ]
    },
    {
      "cell_type": "code",
      "metadata": {
        "id": "6PZhvaw8bkVW",
        "colab_type": "code",
        "colab": {
          "base_uri": "https://localhost:8080/",
          "height": 170
        },
        "outputId": "eadb4282-af41-400b-ed86-f78ee696f112"
      },
      "source": [
        "x,y = np.meshgrid([0.,.5,1.],[0.,.5,1.])\n",
        "z = x**2 + y**2\n",
        "data = np.stack((x,y,z)).T\n",
        "\n",
        "data.shape\n",
        "data.reshape(-1,3)"
      ],
      "execution_count": 119,
      "outputs": [
        {
          "output_type": "execute_result",
          "data": {
            "text/plain": [
              "array([[0.  , 0.  , 0.  ],\n",
              "       [0.  , 0.5 , 0.25],\n",
              "       [0.  , 1.  , 1.  ],\n",
              "       [0.5 , 0.  , 0.25],\n",
              "       [0.5 , 0.5 , 0.5 ],\n",
              "       [0.5 , 1.  , 1.25],\n",
              "       [1.  , 0.  , 1.  ],\n",
              "       [1.  , 0.5 , 1.25],\n",
              "       [1.  , 1.  , 2.  ]])"
            ]
          },
          "metadata": {
            "tags": []
          },
          "execution_count": 119
        }
      ]
    },
    {
      "cell_type": "markdown",
      "metadata": {
        "id": "NydJssGGbkVZ",
        "colab_type": "text"
      },
      "source": [
        "## Arithmetic operators"
      ]
    },
    {
      "cell_type": "markdown",
      "metadata": {
        "id": "BguE6WoybkVZ",
        "colab_type": "text"
      },
      "source": [
        "Basis arithmetic operators act elementwise between two arrays of the same shape:"
      ]
    },
    {
      "cell_type": "code",
      "metadata": {
        "id": "-hON3bMwbkVZ",
        "colab_type": "code",
        "colab": {
          "base_uri": "https://localhost:8080/",
          "height": 51
        },
        "outputId": "007b29c6-1f1d-4f41-c62d-31335b19f9da"
      },
      "source": [
        "a = np.zeros((2,1))\n",
        "b = np.ones((2,1))\n",
        "a+b"
      ],
      "execution_count": 120,
      "outputs": [
        {
          "output_type": "execute_result",
          "data": {
            "text/plain": [
              "array([[1.],\n",
              "       [1.]])"
            ]
          },
          "metadata": {
            "tags": []
          },
          "execution_count": 120
        }
      ]
    },
    {
      "cell_type": "code",
      "metadata": {
        "id": "xF-DPRhcbkVc",
        "colab_type": "code",
        "colab": {
          "base_uri": "https://localhost:8080/",
          "height": 85
        },
        "outputId": "593c358e-b33c-4e08-dc51-3eff074a9abb"
      },
      "source": [
        "b/a"
      ],
      "execution_count": 122,
      "outputs": [
        {
          "output_type": "stream",
          "text": [
            "/usr/local/lib/python3.6/dist-packages/ipykernel_launcher.py:1: RuntimeWarning: divide by zero encountered in true_divide\n",
            "  \"\"\"Entry point for launching an IPython kernel.\n"
          ],
          "name": "stderr"
        },
        {
          "output_type": "execute_result",
          "data": {
            "text/plain": [
              "array([[inf],\n",
              "       [inf]])"
            ]
          },
          "metadata": {
            "tags": []
          },
          "execution_count": 122
        }
      ]
    },
    {
      "cell_type": "code",
      "metadata": {
        "id": "_VWvY9AXYZuS",
        "colab_type": "code",
        "colab": {
          "base_uri": "https://localhost:8080/",
          "height": 34
        },
        "outputId": "41a49686-662f-48b9-8161-8df0aa5a0e7d"
      },
      "source": [
        "np.inf * 0"
      ],
      "execution_count": 124,
      "outputs": [
        {
          "output_type": "execute_result",
          "data": {
            "text/plain": [
              "nan"
            ]
          },
          "metadata": {
            "tags": []
          },
          "execution_count": 124
        }
      ]
    },
    {
      "cell_type": "markdown",
      "metadata": {
        "id": "eLFwlyQNbkVe",
        "colab_type": "text"
      },
      "source": [
        "## Broadcasting\n",
        "- Operations can take place between arrays of different shape in certain conditions.\n",
        "- This is called \"broadcasting\".\n",
        "- Starting from the trailing dimensions, either:\n",
        "    - the two dimensions must be equal, or\n",
        "    - one dimesion must be 1."
      ]
    },
    {
      "cell_type": "code",
      "metadata": {
        "id": "wnNCZEqCbkVe",
        "colab_type": "code",
        "colab": {
          "base_uri": "https://localhost:8080/",
          "height": 119
        },
        "outputId": "1f83d5a0-ecee-45b5-bf74-8f88a0f27f15"
      },
      "source": [
        "a = np.array([[1.,2.],[3.,4.]])\n",
        "b = np.array([[1.],[2.]])\n",
        "print(a,b)\n",
        "print(a.shape,b.shape)\n",
        "a*b"
      ],
      "execution_count": 125,
      "outputs": [
        {
          "output_type": "stream",
          "text": [
            "[[1. 2.]\n",
            " [3. 4.]] [[1.]\n",
            " [2.]]\n",
            "(2, 2) (2, 1)\n"
          ],
          "name": "stdout"
        },
        {
          "output_type": "execute_result",
          "data": {
            "text/plain": [
              "array([[1., 2.],\n",
              "       [6., 8.]])"
            ]
          },
          "metadata": {
            "tags": []
          },
          "execution_count": 125
        }
      ]
    },
    {
      "cell_type": "markdown",
      "metadata": {
        "id": "bbD-RTonbkVg",
        "colab_type": "text"
      },
      "source": [
        "Other examples that work:"
      ]
    },
    {
      "cell_type": "code",
      "metadata": {
        "id": "H2aTOiCnbkVg",
        "colab_type": "code",
        "colab": {
          "base_uri": "https://localhost:8080/",
          "height": 51
        },
        "outputId": "f4246d20-6aaa-4c23-c4fc-f7454e5fc501"
      },
      "source": [
        "a = 5.\n",
        "b = np.ones((2,3))\n",
        "c = a*b\n",
        "c"
      ],
      "execution_count": 128,
      "outputs": [
        {
          "output_type": "execute_result",
          "data": {
            "text/plain": [
              "array([[5., 5., 5.],\n",
              "       [5., 5., 5.]])"
            ]
          },
          "metadata": {
            "tags": []
          },
          "execution_count": 128
        }
      ]
    },
    {
      "cell_type": "code",
      "metadata": {
        "id": "3dlT39MVbkVj",
        "colab_type": "code",
        "colab": {
          "base_uri": "https://localhost:8080/",
          "height": 544
        },
        "outputId": "33e36be7-c0ed-4aa3-848f-d8e5f2306d86"
      },
      "source": [
        "a = np.random.rand(1,3,2,1,5)\n",
        "b = np.random.rand(    2,4,5)\n",
        "c = a+b\n",
        "c"
      ],
      "execution_count": 129,
      "outputs": [
        {
          "output_type": "execute_result",
          "data": {
            "text/plain": [
              "array([[[[[0.75376421, 1.27967159, 1.14934631, 0.47468015, 0.82173446],\n",
              "          [1.32280301, 1.33454621, 0.8956608 , 0.23636347, 0.5686095 ],\n",
              "          [1.33932579, 0.95771191, 0.4968298 , 0.24201555, 0.59847303],\n",
              "          [1.50570413, 0.74135998, 0.55437072, 0.58706192, 0.39671106]],\n",
              "\n",
              "         [[1.23348768, 1.7788648 , 0.53900529, 0.87646586, 0.96017398],\n",
              "          [0.9822117 , 0.99791369, 0.51778919, 0.53984972, 1.43961994],\n",
              "          [0.98020932, 1.16317047, 0.42666301, 0.89470789, 1.83960794],\n",
              "          [0.93722835, 1.74250083, 0.61182605, 0.70217087, 1.43683222]]],\n",
              "\n",
              "\n",
              "        [[[0.98342053, 1.07245232, 1.44498741, 1.10087029, 0.7059361 ],\n",
              "          [1.55245933, 1.12732694, 1.1913019 , 0.86255362, 0.45281115],\n",
              "          [1.56898211, 0.75049264, 0.7924709 , 0.86820569, 0.48267467],\n",
              "          [1.73536046, 0.53414071, 0.85001182, 1.21325206, 0.2809127 ]],\n",
              "\n",
              "         [[1.28149426, 1.73116701, 1.06503888, 0.91512954, 0.26140292],\n",
              "          [1.03021828, 0.9502159 , 1.04382278, 0.5785134 , 0.74084888],\n",
              "          [1.0282159 , 1.11547268, 0.9526966 , 0.93337157, 1.14083688],\n",
              "          [0.98523493, 1.69480304, 1.13785963, 0.74083454, 0.73806116]]],\n",
              "\n",
              "\n",
              "        [[[0.70983656, 1.09945974, 1.36075618, 1.10887591, 1.17974615],\n",
              "          [1.27887536, 1.15433436, 1.10707066, 0.87055924, 0.9266212 ],\n",
              "          [1.29539814, 0.77750006, 0.70823967, 0.87621131, 0.95648472],\n",
              "          [1.46177649, 0.56114813, 0.76578058, 1.22125768, 0.75472275]],\n",
              "\n",
              "         [[1.80722314, 1.86728708, 0.99777228, 0.81766863, 1.05424584],\n",
              "          [1.55594716, 1.08633597, 0.97655617, 0.48105249, 1.53369179],\n",
              "          [1.55394478, 1.25159275, 0.88542999, 0.83591066, 1.93367979],\n",
              "          [1.51096381, 1.83092311, 1.07059303, 0.64337364, 1.53090407]]]]])"
            ]
          },
          "metadata": {
            "tags": []
          },
          "execution_count": 129
        }
      ]
    },
    {
      "cell_type": "markdown",
      "metadata": {
        "id": "uor7mpT0bkVl",
        "colab_type": "text"
      },
      "source": [
        "Examples that don't work:"
      ]
    },
    {
      "cell_type": "code",
      "metadata": {
        "scrolled": true,
        "id": "_xb5VyOhbkVl",
        "colab_type": "code",
        "colab": {}
      },
      "source": [
        "a = np.ones((2,2))\n",
        "b = np.ones((3,2))\n",
        "#c = a+b"
      ],
      "execution_count": 132,
      "outputs": []
    },
    {
      "cell_type": "code",
      "metadata": {
        "id": "AedbIRhvbkVn",
        "colab_type": "code",
        "colab": {}
      },
      "source": [
        "a = np.random.rand(1,3,2,2,5)\n",
        "b = np.random.rand(    2,4,5)\n",
        "#c = a+b"
      ],
      "execution_count": null,
      "outputs": []
    },
    {
      "cell_type": "markdown",
      "metadata": {
        "id": "Nm6frytSbkVo",
        "colab_type": "text"
      },
      "source": [
        "### Exercise\n",
        "Which of the following pairs of arrays can be broadcast together?"
      ]
    },
    {
      "cell_type": "code",
      "metadata": {
        "id": "myXTXeoMbkVo",
        "colab_type": "code",
        "colab": {
          "base_uri": "https://localhost:8080/",
          "height": 646
        },
        "outputId": "371a54ff-5b50-4b61-c0ae-02c2377208b0"
      },
      "source": [
        "a = np.random.rand(3,4,2,4)\n",
        "b = np.random.rand(      1)\n",
        "a+b"
      ],
      "execution_count": 138,
      "outputs": [
        {
          "output_type": "execute_result",
          "data": {
            "text/plain": [
              "array([[[[0.94200966, 1.42253858, 0.94909125, 1.10912029],\n",
              "         [1.17596686, 0.9880075 , 0.92280447, 1.2156548 ]],\n",
              "\n",
              "        [[1.38411708, 1.53594182, 0.63731403, 1.40090756],\n",
              "         [0.85732921, 0.8010165 , 1.17192743, 1.06457426]],\n",
              "\n",
              "        [[1.48089595, 0.71971936, 0.89836348, 1.37935878],\n",
              "         [1.09894182, 1.04930262, 1.06245179, 0.9144812 ]],\n",
              "\n",
              "        [[1.00101423, 1.55938209, 0.88575117, 0.66378924],\n",
              "         [1.104787  , 1.00881408, 1.04071265, 1.20224235]]],\n",
              "\n",
              "\n",
              "       [[[0.76884091, 1.40058259, 1.30364106, 0.59841901],\n",
              "         [0.58986431, 1.32938611, 0.56768267, 1.22867412]],\n",
              "\n",
              "        [[1.36819479, 0.65787509, 1.40609892, 0.74088245],\n",
              "         [0.86828972, 1.35034688, 0.57973883, 0.9519194 ]],\n",
              "\n",
              "        [[1.00663127, 1.21701836, 0.5666295 , 1.0006431 ],\n",
              "         [1.22690283, 1.20883195, 1.03209245, 1.03445283]],\n",
              "\n",
              "        [[1.38197019, 0.6179653 , 1.44115867, 1.43456941],\n",
              "         [0.66877293, 0.72368249, 1.10542474, 1.11898114]]],\n",
              "\n",
              "\n",
              "       [[[0.93789793, 1.26098565, 1.08672557, 0.8477365 ],\n",
              "         [1.00269426, 1.36203873, 1.26679313, 1.26004749]],\n",
              "\n",
              "        [[1.22257904, 1.12432703, 0.70382317, 1.12296499],\n",
              "         [0.65381422, 0.5678839 , 0.9165636 , 0.68920539]],\n",
              "\n",
              "        [[0.62761095, 1.49800238, 0.92054347, 0.5811401 ],\n",
              "         [1.41377439, 0.97037068, 0.95550386, 1.39825598]],\n",
              "\n",
              "        [[0.6436833 , 1.26449444, 1.34396488, 1.19905243],\n",
              "         [1.10970932, 0.74096462, 0.88173324, 0.84719912]]]])"
            ]
          },
          "metadata": {
            "tags": []
          },
          "execution_count": 138
        }
      ]
    },
    {
      "cell_type": "code",
      "metadata": {
        "id": "ZNxZwQMzbkVq",
        "colab_type": "code",
        "colab": {
          "base_uri": "https://localhost:8080/",
          "height": 198
        },
        "outputId": "c6e0a6f3-102f-432b-b442-e6baefc101af"
      },
      "source": [
        "a = np.random.rand(3,3,2,1)\n",
        "b = np.random.rand(1,2,1,1)\n",
        "a+b"
      ],
      "execution_count": 139,
      "outputs": [
        {
          "output_type": "error",
          "ename": "ValueError",
          "evalue": "ignored",
          "traceback": [
            "\u001b[0;31m---------------------------------------------------------------------------\u001b[0m",
            "\u001b[0;31mValueError\u001b[0m                                Traceback (most recent call last)",
            "\u001b[0;32m<ipython-input-139-1d4e876e9c0d>\u001b[0m in \u001b[0;36m<module>\u001b[0;34m()\u001b[0m\n\u001b[1;32m      1\u001b[0m \u001b[0ma\u001b[0m \u001b[0;34m=\u001b[0m \u001b[0mnp\u001b[0m\u001b[0;34m.\u001b[0m\u001b[0mrandom\u001b[0m\u001b[0;34m.\u001b[0m\u001b[0mrand\u001b[0m\u001b[0;34m(\u001b[0m\u001b[0;36m3\u001b[0m\u001b[0;34m,\u001b[0m\u001b[0;36m3\u001b[0m\u001b[0;34m,\u001b[0m\u001b[0;36m2\u001b[0m\u001b[0;34m,\u001b[0m\u001b[0;36m1\u001b[0m\u001b[0;34m)\u001b[0m\u001b[0;34m\u001b[0m\u001b[0;34m\u001b[0m\u001b[0m\n\u001b[1;32m      2\u001b[0m \u001b[0mb\u001b[0m \u001b[0;34m=\u001b[0m \u001b[0mnp\u001b[0m\u001b[0;34m.\u001b[0m\u001b[0mrandom\u001b[0m\u001b[0;34m.\u001b[0m\u001b[0mrand\u001b[0m\u001b[0;34m(\u001b[0m\u001b[0;36m1\u001b[0m\u001b[0;34m,\u001b[0m\u001b[0;36m2\u001b[0m\u001b[0;34m,\u001b[0m\u001b[0;36m1\u001b[0m\u001b[0;34m,\u001b[0m\u001b[0;36m1\u001b[0m\u001b[0;34m)\u001b[0m\u001b[0;34m\u001b[0m\u001b[0;34m\u001b[0m\u001b[0m\n\u001b[0;32m----> 3\u001b[0;31m \u001b[0ma\u001b[0m\u001b[0;34m+\u001b[0m\u001b[0mb\u001b[0m\u001b[0;34m\u001b[0m\u001b[0;34m\u001b[0m\u001b[0m\n\u001b[0m",
            "\u001b[0;31mValueError\u001b[0m: operands could not be broadcast together with shapes (3,3,2,1) (1,2,1,1) "
          ]
        }
      ]
    },
    {
      "cell_type": "code",
      "metadata": {
        "id": "vAtTtpMsbkVr",
        "colab_type": "code",
        "colab": {}
      },
      "source": [
        "a = np.random.rand(3,1,2,1)\n",
        "b = np.random.rand( 2,2,11)\n",
        "a+b"
      ],
      "execution_count": null,
      "outputs": []
    },
    {
      "cell_type": "code",
      "metadata": {
        "id": "aU03poWzbkVs",
        "colab_type": "code",
        "colab": {}
      },
      "source": [
        "a = np.random.rand(  3,4)\n",
        "b = np.random.rand(3,4,2)\n",
        "a + b"
      ],
      "execution_count": null,
      "outputs": []
    },
    {
      "cell_type": "markdown",
      "metadata": {
        "id": "v7VDo8rIbkVt",
        "colab_type": "text"
      },
      "source": [
        "## Linear algebra"
      ]
    },
    {
      "cell_type": "markdown",
      "metadata": {
        "id": "X_Bzc2vAbkVu",
        "colab_type": "text"
      },
      "source": [
        "2D NumPy arrays can be treated as matrices for basic linear algebra operations:"
      ]
    },
    {
      "cell_type": "code",
      "metadata": {
        "id": "HvI1bVsPbkVu",
        "colab_type": "code",
        "colab": {
          "base_uri": "https://localhost:8080/",
          "height": 51
        },
        "outputId": "bd2706f4-5024-4246-8758-28752b66a930"
      },
      "source": [
        "a = np.array([[1.,2.],[3.,4.]])\n",
        "print(a)"
      ],
      "execution_count": 140,
      "outputs": [
        {
          "output_type": "stream",
          "text": [
            "[[1. 2.]\n",
            " [3. 4.]]\n"
          ],
          "name": "stdout"
        }
      ]
    },
    {
      "cell_type": "markdown",
      "metadata": {
        "id": "ErP4OSePbkVv",
        "colab_type": "text"
      },
      "source": [
        "Transpose:"
      ]
    },
    {
      "cell_type": "code",
      "metadata": {
        "id": "v6I36fO5bkVv",
        "colab_type": "code",
        "colab": {
          "base_uri": "https://localhost:8080/",
          "height": 51
        },
        "outputId": "e8641784-63fa-4663-c0c8-ce992459ebab"
      },
      "source": [
        "a.T"
      ],
      "execution_count": 141,
      "outputs": [
        {
          "output_type": "execute_result",
          "data": {
            "text/plain": [
              "array([[1., 3.],\n",
              "       [2., 4.]])"
            ]
          },
          "metadata": {
            "tags": []
          },
          "execution_count": 141
        }
      ]
    },
    {
      "cell_type": "code",
      "metadata": {
        "id": "6WZHpA1ObkVx",
        "colab_type": "code",
        "colab": {
          "base_uri": "https://localhost:8080/",
          "height": 51
        },
        "outputId": "674d6e20-1e89-4beb-b169-f44c53e339be"
      },
      "source": [
        "a.transpose()"
      ],
      "execution_count": 142,
      "outputs": [
        {
          "output_type": "execute_result",
          "data": {
            "text/plain": [
              "array([[1., 3.],\n",
              "       [2., 4.]])"
            ]
          },
          "metadata": {
            "tags": []
          },
          "execution_count": 142
        }
      ]
    },
    {
      "cell_type": "markdown",
      "metadata": {
        "id": "pba8On9KbkVz",
        "colab_type": "text"
      },
      "source": [
        "Inverse:"
      ]
    },
    {
      "cell_type": "code",
      "metadata": {
        "id": "RlvT05VHbkVz",
        "colab_type": "code",
        "colab": {
          "base_uri": "https://localhost:8080/",
          "height": 51
        },
        "outputId": "d28a17bc-b1a4-4d4e-ae76-c92b51a860ff"
      },
      "source": [
        "inva = np.linalg.inv(a)\n",
        "print(inva)"
      ],
      "execution_count": 143,
      "outputs": [
        {
          "output_type": "stream",
          "text": [
            "[[-2.   1. ]\n",
            " [ 1.5 -0.5]]\n"
          ],
          "name": "stdout"
        }
      ]
    },
    {
      "cell_type": "markdown",
      "metadata": {
        "id": "h1zLwDCybkV0",
        "colab_type": "text"
      },
      "source": [
        "Matrix multiplication:\n",
        "- Remember the * operator for elementwise multiplication\n",
        "- The @ operator does matrix multiplication in Python 3"
      ]
    },
    {
      "cell_type": "code",
      "metadata": {
        "id": "mdsE_AJUbkV0",
        "colab_type": "code",
        "colab": {
          "base_uri": "https://localhost:8080/",
          "height": 51
        },
        "outputId": "efbd203f-478f-458c-fc15-b9770dff6e2a"
      },
      "source": [
        "inva.dot(a)"
      ],
      "execution_count": 144,
      "outputs": [
        {
          "output_type": "execute_result",
          "data": {
            "text/plain": [
              "array([[1.00000000e+00, 0.00000000e+00],\n",
              "       [1.11022302e-16, 1.00000000e+00]])"
            ]
          },
          "metadata": {
            "tags": []
          },
          "execution_count": 144
        }
      ]
    },
    {
      "cell_type": "code",
      "metadata": {
        "id": "zqHkhIhzbkV2",
        "colab_type": "code",
        "colab": {
          "base_uri": "https://localhost:8080/",
          "height": 51
        },
        "outputId": "8788c621-d356-4d4d-e816-20ad20e1b215"
      },
      "source": [
        "inva @ a"
      ],
      "execution_count": 145,
      "outputs": [
        {
          "output_type": "execute_result",
          "data": {
            "text/plain": [
              "array([[1.00000000e+00, 0.00000000e+00],\n",
              "       [1.11022302e-16, 1.00000000e+00]])"
            ]
          },
          "metadata": {
            "tags": []
          },
          "execution_count": 145
        }
      ]
    },
    {
      "cell_type": "markdown",
      "metadata": {
        "id": "GVgnK3btbkV4",
        "colab_type": "text"
      },
      "source": [
        "Matrix/vector solve:"
      ]
    },
    {
      "cell_type": "code",
      "metadata": {
        "id": "2wp_OaBRbkV5",
        "colab_type": "code",
        "colab": {
          "base_uri": "https://localhost:8080/",
          "height": 51
        },
        "outputId": "a6874e31-31a1-4178-a813-00c154cf5b8d"
      },
      "source": [
        "b = np.array([[3],[7]])\n",
        "np.linalg.solve(a,b) #np.inv(a)*b"
      ],
      "execution_count": 146,
      "outputs": [
        {
          "output_type": "execute_result",
          "data": {
            "text/plain": [
              "array([[1.],\n",
              "       [1.]])"
            ]
          },
          "metadata": {
            "tags": []
          },
          "execution_count": 146
        }
      ]
    },
    {
      "cell_type": "markdown",
      "metadata": {
        "id": "5hgWh1GXbkV8",
        "colab_type": "text"
      },
      "source": [
        "Eigenvalues/eigenvectors (returns a tuple containg a vector of the eigenvalues and a matrix whose columns are the eigenvectors):"
      ]
    },
    {
      "cell_type": "code",
      "metadata": {
        "id": "gMU70_DpbkV8",
        "colab_type": "code",
        "colab": {
          "base_uri": "https://localhost:8080/",
          "height": 51
        },
        "outputId": "9918b18d-edf5-4c39-8b84-406617828fe9"
      },
      "source": [
        "np.linalg.eig(a)"
      ],
      "execution_count": 147,
      "outputs": [
        {
          "output_type": "execute_result",
          "data": {
            "text/plain": [
              "(array([-0.37228132,  5.37228132]), array([[-0.82456484, -0.41597356],\n",
              "        [ 0.56576746, -0.90937671]]))"
            ]
          },
          "metadata": {
            "tags": []
          },
          "execution_count": 147
        }
      ]
    },
    {
      "cell_type": "markdown",
      "metadata": {
        "id": "j2KfbixfbkV9",
        "colab_type": "text"
      },
      "source": [
        "Identity matrix:"
      ]
    },
    {
      "cell_type": "code",
      "metadata": {
        "id": "dVn0cxzGbkV-",
        "colab_type": "code",
        "colab": {
          "base_uri": "https://localhost:8080/",
          "height": 51
        },
        "outputId": "4ecc38a8-6a3f-43d9-8074-46903f7e462d"
      },
      "source": [
        "np.eye(2)"
      ],
      "execution_count": 148,
      "outputs": [
        {
          "output_type": "execute_result",
          "data": {
            "text/plain": [
              "array([[1., 0.],\n",
              "       [0., 1.]])"
            ]
          },
          "metadata": {
            "tags": []
          },
          "execution_count": 148
        }
      ]
    },
    {
      "cell_type": "markdown",
      "metadata": {
        "id": "3m2eMUkEbkV_",
        "colab_type": "text"
      },
      "source": [
        "### Exercise\n",
        "\n",
        "Verify that `np.linalg.solve` is giving correct results. I.e. given $x = A^{-1}b$, verify that $Ax = b$."
      ]
    },
    {
      "cell_type": "code",
      "metadata": {
        "id": "ATqm5cYnbkV_",
        "colab_type": "code",
        "colab": {
          "base_uri": "https://localhost:8080/",
          "height": 51
        },
        "outputId": "f0489f18-ed22-4c5d-8f57-a181832b8d0a"
      },
      "source": [
        "A = np.array([[2.,6.],[0.,1.]])\n",
        "b = np.array([[1.],[0.]])\n",
        "\n",
        "x = np.linalg.solve(A, b)\n",
        "A @ x"
      ],
      "execution_count": 155,
      "outputs": [
        {
          "output_type": "execute_result",
          "data": {
            "text/plain": [
              "array([[1.],\n",
              "       [0.]])"
            ]
          },
          "metadata": {
            "tags": []
          },
          "execution_count": 155
        }
      ]
    },
    {
      "cell_type": "markdown",
      "metadata": {
        "id": "T808eCA8bkWA",
        "colab_type": "text"
      },
      "source": [
        "Verify that `np.linalg.eig` is giving correct results. I.e. using the eigenvalues $\\lambda_i$ and eigenvectors $\\boldsymbol{\\xi}_i$ from the matrix $A$, verify that $A\\boldsymbol{\\xi}_i = \\lambda_i\\boldsymbol{\\xi}_i$."
      ]
    },
    {
      "cell_type": "code",
      "metadata": {
        "id": "exP9OaHmbkWB",
        "colab_type": "code",
        "colab": {
          "base_uri": "https://localhost:8080/",
          "height": 68
        },
        "outputId": "3cfe44d7-b543-44ce-e93b-9582e4d337eb"
      },
      "source": [
        "A = np.array([[2.,6.],[0.,1.]])\n",
        "val, vec = np.linalg.eig(A)\n",
        "print(val,vec)\n",
        "\n",
        "A @ vec[:,0] == val[0]*vec[:,0]"
      ],
      "execution_count": 156,
      "outputs": [
        {
          "output_type": "stream",
          "text": [
            "[2. 1.] [[ 1.         -0.98639392]\n",
            " [ 0.          0.16439899]]\n"
          ],
          "name": "stdout"
        },
        {
          "output_type": "execute_result",
          "data": {
            "text/plain": [
              "array([ True,  True])"
            ]
          },
          "metadata": {
            "tags": []
          },
          "execution_count": 156
        }
      ]
    },
    {
      "cell_type": "markdown",
      "metadata": {
        "id": "p4dei0r4bkWD",
        "colab_type": "text"
      },
      "source": [
        "## Random sampling"
      ]
    },
    {
      "cell_type": "markdown",
      "metadata": {
        "id": "XPY7CGxzbkWD",
        "colab_type": "text"
      },
      "source": [
        "NumPy has several functions for random sampling."
      ]
    },
    {
      "cell_type": "markdown",
      "metadata": {
        "id": "Qv8DNxfvbkWD",
        "colab_type": "text"
      },
      "source": [
        "Uniformly sampled from $[0,1)$ for a given shape:"
      ]
    },
    {
      "cell_type": "code",
      "metadata": {
        "id": "-kKlAWtibkWD",
        "colab_type": "code",
        "colab": {
          "base_uri": "https://localhost:8080/",
          "height": 51
        },
        "outputId": "93344ca7-c649-4d75-fb4e-1f40a0a6c3c7"
      },
      "source": [
        "  np.random.rand(2,3)"
      ],
      "execution_count": 157,
      "outputs": [
        {
          "output_type": "execute_result",
          "data": {
            "text/plain": [
              "array([[0.77363789, 0.24970458, 0.1962771 ],\n",
              "       [0.07444255, 0.71911394, 0.56059312]])"
            ]
          },
          "metadata": {
            "tags": []
          },
          "execution_count": 157
        }
      ]
    },
    {
      "cell_type": "markdown",
      "metadata": {
        "id": "5bBOPhebbkWG",
        "colab_type": "text"
      },
      "source": [
        "Random sample from standard normal distribution (0 mean, 1 std. dev.):"
      ]
    },
    {
      "cell_type": "code",
      "metadata": {
        "id": "8f0N149ebkWG",
        "colab_type": "code",
        "colab": {
          "base_uri": "https://localhost:8080/",
          "height": 34
        },
        "outputId": "cf3a4df6-d254-4475-9cae-38ca58329d68"
      },
      "source": [
        "np.random.randn(1,2)"
      ],
      "execution_count": 158,
      "outputs": [
        {
          "output_type": "execute_result",
          "data": {
            "text/plain": [
              "array([[-0.28922453,  2.10644766]])"
            ]
          },
          "metadata": {
            "tags": []
          },
          "execution_count": 158
        }
      ]
    },
    {
      "cell_type": "markdown",
      "metadata": {
        "id": "K5JegbGebkWI",
        "colab_type": "text"
      },
      "source": [
        "Random integers, specifying lower (inclusive) and upper (exclusive) bounds:"
      ]
    },
    {
      "cell_type": "code",
      "metadata": {
        "id": "2mLsDgbabkWI",
        "colab_type": "code",
        "colab": {
          "base_uri": "https://localhost:8080/",
          "height": 34
        },
        "outputId": "55179f80-73e2-4ab3-c363-4497f8f7bccc"
      },
      "source": [
        "np.random.randint(1,11,(1,3))"
      ],
      "execution_count": 159,
      "outputs": [
        {
          "output_type": "execute_result",
          "data": {
            "text/plain": [
              "array([[5, 6, 2]])"
            ]
          },
          "metadata": {
            "tags": []
          },
          "execution_count": 159
        }
      ]
    },
    {
      "cell_type": "markdown",
      "metadata": {
        "id": "DUgNJQENbkWK",
        "colab_type": "text"
      },
      "source": [
        "Shuffle contents of array:\n",
        "- Only along first axis - e.g. shuffling a matrix maintains rows\n",
        "- `shuffle` modifies the original array\n",
        "- `permutation` returns a new, shuffled array"
      ]
    },
    {
      "cell_type": "code",
      "metadata": {
        "id": "jLACW1W1bkWK",
        "colab_type": "code",
        "colab": {
          "base_uri": "https://localhost:8080/",
          "height": 68
        },
        "outputId": "76886230-9d31-487f-ddb9-98e625942189"
      },
      "source": [
        "a = np.arange(0,12).reshape(3,-1)\n",
        "np.random.permutation(a)"
      ],
      "execution_count": 160,
      "outputs": [
        {
          "output_type": "execute_result",
          "data": {
            "text/plain": [
              "array([[ 4,  5,  6,  7],\n",
              "       [ 0,  1,  2,  3],\n",
              "       [ 8,  9, 10, 11]])"
            ]
          },
          "metadata": {
            "tags": []
          },
          "execution_count": 160
        }
      ]
    },
    {
      "cell_type": "code",
      "metadata": {
        "id": "y8ogQE1RbkWL",
        "colab_type": "code",
        "colab": {
          "base_uri": "https://localhost:8080/",
          "height": 68
        },
        "outputId": "c88b533b-ac09-44b4-a3d1-0cd81a7321df"
      },
      "source": [
        "b = np.array([[1.,2.],[3.,4.],[5.,6.]])\n",
        "np.random.shuffle(b)\n",
        "print(b)"
      ],
      "execution_count": 164,
      "outputs": [
        {
          "output_type": "stream",
          "text": [
            "[[1. 2.]\n",
            " [5. 6.]\n",
            " [3. 4.]]\n"
          ],
          "name": "stdout"
        }
      ]
    },
    {
      "cell_type": "markdown",
      "metadata": {
        "id": "cz-19ALPbkWM",
        "colab_type": "text"
      },
      "source": [
        "### Exercise\n",
        "\n",
        "Draw four random numbers (*with no repeats*) from the set of integers 1 through 10."
      ]
    },
    {
      "cell_type": "code",
      "metadata": {
        "id": "XkCIFS98bkWN",
        "colab_type": "code",
        "colab": {
          "base_uri": "https://localhost:8080/",
          "height": 34
        },
        "outputId": "e0d5119f-39b0-45b5-ea5e-ba1f6f8fb626"
      },
      "source": [
        "np.random.permutation(np.arange(1,11))[:4]"
      ],
      "execution_count": 176,
      "outputs": [
        {
          "output_type": "execute_result",
          "data": {
            "text/plain": [
              "array([7, 9, 2, 4])"
            ]
          },
          "metadata": {
            "tags": []
          },
          "execution_count": 176
        }
      ]
    },
    {
      "cell_type": "markdown",
      "metadata": {
        "id": "Ca3zPNB0bkWP",
        "colab_type": "text"
      },
      "source": [
        "## Other useful functions and methods"
      ]
    },
    {
      "cell_type": "markdown",
      "metadata": {
        "id": "gCnXXMa3bkWP",
        "colab_type": "text"
      },
      "source": [
        "### Sorting"
      ]
    },
    {
      "cell_type": "markdown",
      "metadata": {
        "id": "se-xBif6bkWP",
        "colab_type": "text"
      },
      "source": [
        "NumPy's `sort` function will sort elements, from low to high:\n",
        "- Note that rows, columns, etc. are not maintained \n",
        "- The axis can be specifed (the default is to sort along the last axis)"
      ]
    },
    {
      "cell_type": "code",
      "metadata": {
        "id": "0zZtajPPbkWP",
        "colab_type": "code",
        "colab": {
          "base_uri": "https://localhost:8080/",
          "height": 68
        },
        "outputId": "06317e19-ad15-431d-f4f5-9e482674b6d0"
      },
      "source": [
        "a = np.array([[1.,5.],[3.,1.],[2,0.]])\n",
        "print(a)"
      ],
      "execution_count": 177,
      "outputs": [
        {
          "output_type": "stream",
          "text": [
            "[[1. 5.]\n",
            " [3. 1.]\n",
            " [2. 0.]]\n"
          ],
          "name": "stdout"
        }
      ]
    },
    {
      "cell_type": "code",
      "metadata": {
        "id": "wwLsJxY5bkWU",
        "colab_type": "code",
        "colab": {
          "base_uri": "https://localhost:8080/",
          "height": 68
        },
        "outputId": "6bc5eb7e-f70f-46b9-dba1-0522cccb6870"
      },
      "source": [
        "np.sort(a)"
      ],
      "execution_count": 181,
      "outputs": [
        {
          "output_type": "execute_result",
          "data": {
            "text/plain": [
              "array([[1., 5.],\n",
              "       [1., 3.],\n",
              "       [0., 2.]])"
            ]
          },
          "metadata": {
            "tags": []
          },
          "execution_count": 181
        }
      ]
    },
    {
      "cell_type": "code",
      "metadata": {
        "id": "TveuuPp9bkWW",
        "colab_type": "code",
        "colab": {
          "base_uri": "https://localhost:8080/",
          "height": 68
        },
        "outputId": "beb07d95-c6e1-4937-9d52-54088a31f8a4"
      },
      "source": [
        "np.sort(a,axis=0)"
      ],
      "execution_count": 182,
      "outputs": [
        {
          "output_type": "execute_result",
          "data": {
            "text/plain": [
              "array([[1., 0.],\n",
              "       [2., 1.],\n",
              "       [3., 5.]])"
            ]
          },
          "metadata": {
            "tags": []
          },
          "execution_count": 182
        }
      ]
    },
    {
      "cell_type": "markdown",
      "metadata": {
        "id": "0z-oGDDgbkWZ",
        "colab_type": "text"
      },
      "source": [
        "This is also available as a method that modifies the array:"
      ]
    },
    {
      "cell_type": "code",
      "metadata": {
        "id": "o7X3htyGbkWZ",
        "colab_type": "code",
        "colab": {
          "base_uri": "https://localhost:8080/",
          "height": 68
        },
        "outputId": "69adf86e-092d-472f-8050-d49b87618740"
      },
      "source": [
        "a.sort()\n",
        "print(a)"
      ],
      "execution_count": 183,
      "outputs": [
        {
          "output_type": "stream",
          "text": [
            "[[1. 5.]\n",
            " [1. 3.]\n",
            " [0. 2.]]\n"
          ],
          "name": "stdout"
        }
      ]
    },
    {
      "cell_type": "markdown",
      "metadata": {
        "id": "dFvyhutUbkWa",
        "colab_type": "text"
      },
      "source": [
        "The indices of the sorted elements are given using `argsort`:\n",
        "- This is useful if you want to, for example, sort an array by the first column and maintain rows"
      ]
    },
    {
      "cell_type": "code",
      "metadata": {
        "id": "nIvCSyiobkWb",
        "colab_type": "code",
        "colab": {
          "base_uri": "https://localhost:8080/",
          "height": 68
        },
        "outputId": "6373b312-0cc8-4bda-bf2f-d47b426c1c45"
      },
      "source": [
        "ind = np.argsort(a,axis=0)\n",
        "print(ind)"
      ],
      "execution_count": 184,
      "outputs": [
        {
          "output_type": "stream",
          "text": [
            "[[2 2]\n",
            " [0 1]\n",
            " [1 0]]\n"
          ],
          "name": "stdout"
        }
      ]
    },
    {
      "cell_type": "markdown",
      "metadata": {
        "id": "O7ZyTX3DbkWc",
        "colab_type": "text"
      },
      "source": [
        "### Exercise"
      ]
    },
    {
      "cell_type": "markdown",
      "metadata": {
        "id": "0LUCB0gYbkWc",
        "colab_type": "text"
      },
      "source": [
        "Use `argsort` to sort the following matrix by the first column, while keeping the contents of each row unchanged:"
      ]
    },
    {
      "cell_type": "code",
      "metadata": {
        "id": "mxYZJH3CbkWc",
        "colab_type": "code",
        "colab": {
          "base_uri": "https://localhost:8080/",
          "height": 119
        },
        "outputId": "9ac0d5b6-e622-45b9-dba3-8b40bbbd65c5"
      },
      "source": [
        "a = np.array([[3.,1.],[0.,4.],[1.,8.]])\n",
        "print(a)\n",
        "\n",
        "a[ind[:,0]]\n"
      ],
      "execution_count": 188,
      "outputs": [
        {
          "output_type": "stream",
          "text": [
            "[[3. 1.]\n",
            " [0. 4.]\n",
            " [1. 8.]]\n"
          ],
          "name": "stdout"
        },
        {
          "output_type": "execute_result",
          "data": {
            "text/plain": [
              "array([[0., 4.],\n",
              "       [3., 1.],\n",
              "       [3., 1.]])"
            ]
          },
          "metadata": {
            "tags": []
          },
          "execution_count": 188
        }
      ]
    },
    {
      "cell_type": "markdown",
      "metadata": {
        "id": "CwhWj0wFbkWd",
        "colab_type": "text"
      },
      "source": [
        "The correct answer should give:"
      ]
    },
    {
      "cell_type": "code",
      "metadata": {
        "id": "Pi5_PBO_bkWd",
        "colab_type": "code",
        "colab": {}
      },
      "source": [
        "a = np.array([[0.,4.],[1.,8.],[3.,1.]])\n",
        "print(a)"
      ],
      "execution_count": null,
      "outputs": []
    },
    {
      "cell_type": "markdown",
      "metadata": {
        "id": "Av1eWi6gbkWf",
        "colab_type": "text"
      },
      "source": [
        "### Reduction/summarization functions"
      ]
    },
    {
      "cell_type": "markdown",
      "metadata": {
        "id": "vgnwJfG1bkWf",
        "colab_type": "text"
      },
      "source": [
        "NumPy has several functions that \"reduce\" an array to a single value or smaller set of values, such as `min`, `max`, `sum`, and `prod`:"
      ]
    },
    {
      "cell_type": "code",
      "metadata": {
        "id": "OZspazKhbkWf",
        "colab_type": "code",
        "colab": {
          "base_uri": "https://localhost:8080/",
          "height": 34
        },
        "outputId": "98376a56-6466-4611-9b88-e0662a1e872c"
      },
      "source": [
        "a = np.random.randint(2,11,5)\n",
        "print(a)"
      ],
      "execution_count": 189,
      "outputs": [
        {
          "output_type": "stream",
          "text": [
            "[10  5  4  9  8]\n"
          ],
          "name": "stdout"
        }
      ]
    },
    {
      "cell_type": "code",
      "metadata": {
        "id": "ZjkkPmZsbkWg",
        "colab_type": "code",
        "colab": {
          "base_uri": "https://localhost:8080/",
          "height": 34
        },
        "outputId": "f9aae81f-0a4d-4be7-bf0b-637cb7bf8533"
      },
      "source": [
        "np.min(a)"
      ],
      "execution_count": 190,
      "outputs": [
        {
          "output_type": "execute_result",
          "data": {
            "text/plain": [
              "4"
            ]
          },
          "metadata": {
            "tags": []
          },
          "execution_count": 190
        }
      ]
    },
    {
      "cell_type": "code",
      "metadata": {
        "id": "zQS1apFnbkWh",
        "colab_type": "code",
        "colab": {
          "base_uri": "https://localhost:8080/",
          "height": 34
        },
        "outputId": "f84f5bd9-a5c6-46cf-91d3-9349ee54b4fe"
      },
      "source": [
        "np.max(a)"
      ],
      "execution_count": 191,
      "outputs": [
        {
          "output_type": "execute_result",
          "data": {
            "text/plain": [
              "10"
            ]
          },
          "metadata": {
            "tags": []
          },
          "execution_count": 191
        }
      ]
    },
    {
      "cell_type": "code",
      "metadata": {
        "id": "7F6QVYFVbkWj",
        "colab_type": "code",
        "colab": {
          "base_uri": "https://localhost:8080/",
          "height": 34
        },
        "outputId": "5b11bb9b-cf84-4aca-f5ba-49879802ff26"
      },
      "source": [
        "np.sum(a)"
      ],
      "execution_count": 192,
      "outputs": [
        {
          "output_type": "execute_result",
          "data": {
            "text/plain": [
              "36"
            ]
          },
          "metadata": {
            "tags": []
          },
          "execution_count": 192
        }
      ]
    },
    {
      "cell_type": "code",
      "metadata": {
        "id": "KUof5z9WbkWk",
        "colab_type": "code",
        "colab": {
          "base_uri": "https://localhost:8080/",
          "height": 34
        },
        "outputId": "dc80b907-dadf-426d-adca-71f6742c71c7"
      },
      "source": [
        "np.prod(a)"
      ],
      "execution_count": 193,
      "outputs": [
        {
          "output_type": "execute_result",
          "data": {
            "text/plain": [
              "14400"
            ]
          },
          "metadata": {
            "tags": []
          },
          "execution_count": 193
        }
      ]
    },
    {
      "cell_type": "markdown",
      "metadata": {
        "id": "ztMQk5BFbkWl",
        "colab_type": "text"
      },
      "source": [
        "### Exercise\n",
        "\n",
        "Compute the average of `a` (without using `np.average` or `np.mean`)."
      ]
    },
    {
      "cell_type": "code",
      "metadata": {
        "id": "cNBYkhwFbkWm",
        "colab_type": "code",
        "colab": {
          "base_uri": "https://localhost:8080/",
          "height": 34
        },
        "outputId": "c136e0c6-5c62-4ec3-a65a-184a421e5de1"
      },
      "source": [
        "np.sum(a)/np.size(a)"
      ],
      "execution_count": 195,
      "outputs": [
        {
          "output_type": "execute_result",
          "data": {
            "text/plain": [
              "5"
            ]
          },
          "metadata": {
            "tags": []
          },
          "execution_count": 195
        }
      ]
    },
    {
      "cell_type": "markdown",
      "metadata": {
        "id": "v9cdTDuybkWn",
        "colab_type": "text"
      },
      "source": [
        "### \"Universal\" functions"
      ]
    },
    {
      "cell_type": "markdown",
      "metadata": {
        "id": "AFKGKAlpbkWn",
        "colab_type": "text"
      },
      "source": [
        "NumPy has several standard mathematical functions that apply elementwise to ndarrays, e.g:"
      ]
    },
    {
      "cell_type": "code",
      "metadata": {
        "id": "MXiYATMnbkWn",
        "colab_type": "code",
        "colab": {}
      },
      "source": [
        "a = np.random.rand(2,2)"
      ],
      "execution_count": 196,
      "outputs": []
    },
    {
      "cell_type": "code",
      "metadata": {
        "id": "qbaUUm5XbkWp",
        "colab_type": "code",
        "colab": {
          "base_uri": "https://localhost:8080/",
          "height": 51
        },
        "outputId": "257338d0-ab81-4ab7-f45a-028f641e63c8"
      },
      "source": [
        "np.exp(a)"
      ],
      "execution_count": 197,
      "outputs": [
        {
          "output_type": "execute_result",
          "data": {
            "text/plain": [
              "array([[1.09440116, 2.60921505],\n",
              "       [1.2466519 , 1.09658436]])"
            ]
          },
          "metadata": {
            "tags": []
          },
          "execution_count": 197
        }
      ]
    },
    {
      "cell_type": "code",
      "metadata": {
        "id": "wkdvSA7tbkWq",
        "colab_type": "code",
        "colab": {
          "base_uri": "https://localhost:8080/",
          "height": 51
        },
        "outputId": "c9de5fdd-4c8b-408d-8353-79d7594214b6"
      },
      "source": [
        "np.sqrt(a)"
      ],
      "execution_count": 198,
      "outputs": [
        {
          "output_type": "execute_result",
          "data": {
            "text/plain": [
              "array([[0.30034534, 0.97931069],\n",
              "       [0.46953325, 0.30364489]])"
            ]
          },
          "metadata": {
            "tags": []
          },
          "execution_count": 198
        }
      ]
    },
    {
      "cell_type": "code",
      "metadata": {
        "id": "aXzS-owYbkWt",
        "colab_type": "code",
        "colab": {
          "base_uri": "https://localhost:8080/",
          "height": 51
        },
        "outputId": "e79c81b1-f58f-4043-f419-57248de8026d"
      },
      "source": [
        "np.sin(a)"
      ],
      "execution_count": 199,
      "outputs": [
        {
          "output_type": "execute_result",
          "data": {
            "text/plain": [
              "array([[0.09008503, 0.81864603],\n",
              "       [0.21867995, 0.09206964]])"
            ]
          },
          "metadata": {
            "tags": []
          },
          "execution_count": 199
        }
      ]
    },
    {
      "cell_type": "code",
      "metadata": {
        "id": "Xjaou3qqbkWu",
        "colab_type": "code",
        "colab": {
          "base_uri": "https://localhost:8080/",
          "height": 51
        },
        "outputId": "ff59ebaf-bce5-4ad6-b29c-c74db358d6cf"
      },
      "source": [
        "np.arctan(a)"
      ],
      "execution_count": 200,
      "outputs": [
        {
          "output_type": "execute_result",
          "data": {
            "text/plain": [
              "array([[0.08996383, 0.76449792],\n",
              "       [0.21699043, 0.09194028]])"
            ]
          },
          "metadata": {
            "tags": []
          },
          "execution_count": 200
        }
      ]
    }
  ]
}